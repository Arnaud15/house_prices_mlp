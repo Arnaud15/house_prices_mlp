{
 "cells": [
  {
   "cell_type": "code",
   "execution_count": 2,
   "id": "9d506c94-9a60-4e47-9135-1c0652b3efb4",
   "metadata": {},
   "outputs": [],
   "source": [
    "from preprocess import *\n",
    "from data_loader import *\n",
    "import json\n",
    "import os\n",
    "import pandas as pd\n",
    "from collections import namedtuple"
   ]
  },
  {
   "cell_type": "code",
   "execution_count": 3,
   "id": "ee170e3c-880c-47d0-992e-e475187ddc24",
   "metadata": {},
   "outputs": [],
   "source": [
    "\n",
    "def house_prices_train(args):\n",
    "    train_data_full = pd.read_csv(os.path.join(\"data\", \"train.csv\")).iloc[\n",
    "        :, 1:\n",
    "    ]  # remove first id column\n",
    "\n",
    "    np.random.seed(151515)\n",
    "\n",
    "    transforms = None\n",
    "    with open(os.path.join(\"data\", \"transforms\"), \"r\") as f:\n",
    "        transforms = json.load(f)\n",
    "        transforms = [tuple(list_) for list_ in transforms]\n",
    "\n",
    "    train_data, eval_data = train_test_split_pandas(train_data_full)\n",
    "\n",
    "    train_transformed, eval_transformed = get_transformed_data(\n",
    "        train_data=train_data, eval_data=eval_data, transforms=transforms\n",
    "    )\n",
    "    return train_transformed, eval_transformed\n",
    "\n",
    "    # train_dataset = get_dataset(\n",
    "    #     x_num=train_transformed.X_num,\n",
    "    #     x_cat=train_transformed.X_cat,\n",
    "    #     y_data=train_transformed.y,\n",
    "    #     batch_size=args.batch_size,\n",
    "    #     buffer_size=len(train_data),\n",
    "    #     numpy=True,\n",
    "    # )\n",
    "# \n",
    "    # eval_dataset = get_dataset(\n",
    "    #     x_num=eval_transformed.X_num,\n",
    "    #     x_cat=eval_transformed.X_cat,\n",
    "    #     y_data=eval_transformed.y,\n",
    "    #     batch_size=len(eval_data),  # all in a single batch\n",
    "    #     buffer_size=len(eval_data),\n",
    "    #     numpy=True,\n",
    "    # )"
   ]
  },
  {
   "cell_type": "code",
   "execution_count": 4,
   "id": "e6d8e6d2-8efb-4004-956a-021644226ec4",
   "metadata": {},
   "outputs": [],
   "source": [
    "Args = namedtuple(\"Args\", [\"batch_size\"])"
   ]
  },
  {
   "cell_type": "code",
   "execution_count": 5,
   "id": "f4dbac64-f756-4ddc-9059-b0b6100a5d7f",
   "metadata": {},
   "outputs": [],
   "source": [
    "train, eval = house_prices_train(Args(batch_size=32))"
   ]
  },
  {
   "cell_type": "code",
   "execution_count": 6,
   "id": "7f0eb92f-68db-40a7-87c9-b32142146946",
   "metadata": {},
   "outputs": [
    {
     "data": {
      "text/plain": [
       "(array([  5.,  10.,  38., 126., 323., 275., 164.,  58.,  10.,   3.]),\n",
       " array([10.46024211, 10.7676652 , 11.07508829, 11.38251138, 11.68993448,\n",
       "        11.99735757, 12.30478066, 12.61220375, 12.91962684, 13.22704994,\n",
       "        13.53447303]),\n",
       " <BarContainer object of 10 artists>)"
      ]
     },
     "execution_count": 6,
     "metadata": {},
     "output_type": "execute_result"
    },
    {
     "data": {
      "image/png": "[encoded data removed]",
      "text/plain": [
       "<Figure size 432x288 with 1 Axes>"
      ]
     },
     "metadata": {
      "needs_background": "light"
     },
     "output_type": "display_data"
    }
   ],
   "source": [
    "import matplotlib.pyplot as plt\n",
    "\n",
    "plt.hist(train.y)"
   ]
  },
  {
   "cell_type": "code",
   "execution_count": 7,
   "id": "686a4d47-637d-46c0-8163-33b1091b4b55",
   "metadata": {},
   "outputs": [
    {
     "data": {
      "text/plain": [
       "0"
      ]
     },
     "execution_count": 7,
     "metadata": {},
     "output_type": "execute_result"
    }
   ],
   "source": [
    "import numpy as np\n",
    "np.isnan(train.X_num).sum()"
   ]
  },
  {
   "cell_type": "code",
   "execution_count": 8,
   "id": "9372d8e3-8347-450a-afad-4202d348788e",
   "metadata": {},
   "outputs": [
    {
     "data": {
      "text/plain": [
       "(1012, 16)"
      ]
     },
     "execution_count": 8,
     "metadata": {},
     "output_type": "execute_result"
    }
   ],
   "source": [
    "train.X_num.shape"
   ]
  },
  {
   "cell_type": "code",
   "execution_count": 9,
   "id": "516d5ae4-e693-4625-86b3-27e35aa3331f",
   "metadata": {},
   "outputs": [
    {
     "data": {
      "text/plain": [
       "(array([0.49168493, 1.        , 0.31037006, 1.        , 0.45784538,\n",
       "        0.68790221, 0.40671104, 1.        , 1.        , 0.34436219,\n",
       "        0.26540385, 1.        , 0.4190759 , 0.37351354, 0.30506416,\n",
       "        0.49711109]),\n",
       " array([-5.69867473e-01,  3.23824191e-16,  1.31971893e-01,  9.05731353e-16,\n",
       "         4.32254803e-01,  1.68083004e-01, -4.76122113e-01,  1.17483976e-15,\n",
       "         1.53418121e-15, -7.13438735e-01, -4.11725955e-02,  1.26430487e-15,\n",
       "        -5.96837945e-01, -1.24011858e-01, -3.27719169e-01, -2.91052821e-02]),\n",
       " array([-1.        , -3.70421103, -1.        , -8.55307871, -1.        ,\n",
       "        -1.        , -1.        , -3.71901843, -4.39455926, -1.        ,\n",
       "        -1.        , -4.64503354, -1.        , -1.        , -1.        ,\n",
       "        -1.        ]),\n",
       " array([1.        , 6.06513378, 1.        , 2.57492622, 1.        ,\n",
       "        1.        , 1.        , 3.36608542, 3.58108398, 1.        ,\n",
       "        1.        , 2.60901844, 1.        , 1.        , 1.        ,\n",
       "        1.        ]))"
      ]
     },
     "execution_count": 9,
     "metadata": {},
     "output_type": "execute_result"
    }
   ],
   "source": [
    "train.X_num.std(0), train.X_num.mean(0), train.X_num.min(0), train.X_num.max(0)"
   ]
  },
  {
   "cell_type": "code",
   "execution_count": 10,
   "id": "b327e400-b868-4238-a92a-545e7f972191",
   "metadata": {},
   "outputs": [
    {
     "data": {
      "text/plain": [
       "(1012, 11)"
      ]
     },
     "execution_count": 10,
     "metadata": {},
     "output_type": "execute_result"
    }
   ],
   "source": [
    "train.X_cat.shape"
   ]
  },
  {
   "cell_type": "code",
   "execution_count": 11,
   "id": "be87d6c5-7600-4bd7-a110-085cb3b75dc4",
   "metadata": {},
   "outputs": [
    {
     "data": {
      "text/plain": [
       "0"
      ]
     },
     "execution_count": 11,
     "metadata": {},
     "output_type": "execute_result"
    }
   ],
   "source": [
    "np.isnan(train.X_cat).sum()"
   ]
  },
  {
   "cell_type": "code",
   "execution_count": 12,
   "id": "bfc49d2e-5389-41b2-a2a8-2aad5c107190",
   "metadata": {},
   "outputs": [
    {
     "data": {
      "text/plain": [
       "dtype('int64')"
      ]
     },
     "execution_count": 12,
     "metadata": {},
     "output_type": "execute_result"
    }
   ],
   "source": [
    "train.X_cat.dtype"
   ]
  },
  {
   "cell_type": "code",
   "execution_count": 13,
   "id": "637c4781-c2cb-499a-a638-bfc8570dc6c0",
   "metadata": {},
   "outputs": [
    {
     "name": "stdout",
     "output_type": "stream",
     "text": [
      "[423, 334, 111, 443, 497, 459, 138, 128, 1012, 67, 59] [0, 1, 2, 3, 4, 5, 6, 7, 8, 9, 10]\n"
     ]
    }
   ],
   "source": [
    "print([np.unique(train.X_cat[:, i], return_counts=True)[1].min() for i in range(train.X_cat.shape[1])],\n",
    "[ix for ix in range(train.X_cat.shape[1]) if np.unique(train.X_cat[:, ix], return_counts=True)[1].min() >= 50])"
   ]
  },
  {
   "cell_type": "code",
   "execution_count": 29,
   "id": "7962a134-41d4-4cb8-8456-cbe3dd190e59",
   "metadata": {},
   "outputs": [
    {
     "data": {
      "text/plain": [
       "[2, 2, 2, 2, 4, 3, 2, 2, 2, 2, 2, 2, 5, 2, 3, 4, 4, 1, 3, 4, 2, 4, 4, 3, 4]"
      ]
     },
     "execution_count": 29,
     "metadata": {},
     "output_type": "execute_result"
    }
   ],
   "source": [
    "[np.unique(train.X_cat[:, i], return_coun).shape[0] for i in range(train.X_cat.shape[1])]\n",
    "\n"
   ]
  },
  {
   "cell_type": "code",
   "execution_count": 34,
   "id": "0b4db29c-aeb8-4fd1-9b14-dac1712d4b29",
   "metadata": {},
   "outputs": [
    {
     "data": {
      "text/plain": [
       "array([[-0.89662883, -0.18059738,  0.68603219],\n",
       "       [-0.41508006, -0.15603541,  0.05039332]])"
      ]
     },
     "execution_count": 34,
     "metadata": {},
     "output_type": "execute_result"
    }
   ],
   "source": [
    "a = np.random.randn(2, 3)\n",
    "a"
   ]
  },
  {
   "cell_type": "code",
   "execution_count": 35,
   "id": "ee198922-f7f1-4bdb-bbc3-90150e71c5f8",
   "metadata": {},
   "outputs": [
    {
     "data": {
      "text/plain": [
       "array([[-0.18059738,  0.68603219],\n",
       "       [-0.15603541,  0.05039332]])"
      ]
     },
     "execution_count": 35,
     "metadata": {},
     "output_type": "execute_result"
    }
   ],
   "source": [
    "a[:, [1, 2]]"
   ]
  },
  {
   "cell_type": "code",
   "execution_count": null,
   "id": "e3063407-bf77-4e32-b850-b161faaadaca",
   "metadata": {},
   "outputs": [],
   "source": [
    "import flax.linen as nn\n",
    "\n",
    "class embedder(nn.Module):\n",
    "    vocab_sizes: List[int]\n",
    "    \n",
    "    def setup(self):\n",
    "        self.embeddings = [nn.Embedding()]\n",
    "    @nn.compact\n",
    "    def call(self, x):\n",
    "        assert\n",
    "    \n",
    "    \n",
    "    "
   ]
  }
 ],
 "metadata": {
  "kernelspec": {
   "display_name": "Python 3",
   "language": "python",
   "name": "python3"
  },
  "language_info": {
   "codemirror_mode": {
    "name": "ipython",
    "version": 3
   },
   "file_extension": ".py",
   "mimetype": "text/x-python",
   "name": "python",
   "nbconvert_exporter": "python",
   "pygments_lexer": "ipython3",
   "version": "3.9.5"
  }
 },
 "nbformat": 4,
 "nbformat_minor": 5
}
