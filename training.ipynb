{
 "cells": [
  {
   "cell_type": "markdown",
   "id": "5e8dd092-dcf9-4fe2-a9e3-d7906866f605",
   "metadata": {},
   "source": [
    "## Roadmap\n",
    "- [x] load data into a tf dataset in memory \n",
    "- [x] create a dummy MLP and training loop\n",
    "- [x] debug MLP on linear regression\n",
    "- [x] Add dummy regularization and make it a baby resnet\n",
    "    - Going for dropout and weight decay\n",
    "- [ ] Split code nicely into several files\n",
    "- [ ] Unit tests\n",
    "    - Understand how to specify neural net parameters init\n",
    "    - Understand init rngs and nn.module\n",
    "    - debug simple resnet training\n",
    "- [ ] Checkpointing and evaluation\n",
    "- [ ] Tensorboard\n",
    "- [ ] Baby version submission\n",
    "- [ ] GPU training on AWS\n",
    "- [ ] Rayon for training on several instances at the same time\n",
    "- [ ] Go all in on hyperparameters tuning"
   ]
  },
  {
   "cell_type": "markdown",
   "id": "cf2e8142-1e8c-423f-b716-a7714700e16c",
   "metadata": {},
   "source": [
    "### Notes\n",
    "- Understand `nn.compact`\n",
    "- Check out the source code for their train state"
   ]
  },
  {
   "cell_type": "markdown",
   "id": "eaa2e7c0-6735-4d2d-bfcf-6dfdfb5296ce",
   "metadata": {},
   "source": [
    "#### Imports"
   ]
  },
  {
   "cell_type": "code",
   "execution_count": 1,
   "id": "d0b09183-8971-48b1-9285-e6f5aef01bcc",
   "metadata": {},
   "outputs": [],
   "source": [
    "import numpy as np\n",
    "import jax\n",
    "import jax.random as random\n",
    "import jax.numpy as jnp\n",
    "import optax\n",
    "\n",
    "from data_loader import get_dataset\n",
    "from models import MLP, Resnet\n",
    "from train import train\n",
    "from utils import poisson_loss, squared_loss"
   ]
  },
  {
   "cell_type": "markdown",
   "id": "f0b001cc-e056-421b-bae4-99a02b3c52f9",
   "metadata": {},
   "source": [
    "#### Load training data"
   ]
  },
  {
   "cell_type": "code",
   "execution_count": 2,
   "id": "2968cb4e-3729-40c4-8f9a-94e34ba55853",
   "metadata": {},
   "outputs": [],
   "source": [
    "X_train = np.load('data/X_train.npy')\n",
    "Y_train = np.load('data/Y_train.npy')"
   ]
  },
  {
   "cell_type": "code",
   "execution_count": 3,
   "id": "85dd5d5d-dd6f-47c5-b2b2-61234c6dc159",
   "metadata": {},
   "outputs": [
    {
     "data": {
      "text/plain": [
       "(8, 3)"
      ]
     },
     "execution_count": 3,
     "metadata": {},
     "output_type": "execute_result"
    }
   ],
   "source": [
    "p, m = X_train.shape[1], Y_train.shape[1]\n",
    "num_h_layers = 0\n",
    "h = 16  # hidden layer size\n",
    "lr = 1e-4  # learning rate\n",
    "num_epochs = 2\n",
    "batch_size = 32\n",
    "\n",
    "jax_poisson = jax.vmap(jax.jit(poisson_loss), in_axes=0)\n",
    "jax_squared = jax.vmap(jax.jit(squared_loss), in_axes=0)\n",
    "\n",
    "p, m"
   ]
  },
  {
   "cell_type": "code",
   "execution_count": 4,
   "id": "39cec5ed-5a7f-4811-a6c3-5b99ca4beba2",
   "metadata": {
    "tags": []
   },
   "outputs": [
    {
     "name": "stderr",
     "output_type": "stream",
     "text": [
      "WARNING:absl:No GPU/TPU found, falling back to CPU. (Set TF_CPP_MIN_LOG_LEVEL=0 and rerun for more info.)\n"
     ]
    },
    {
     "name": "stdout",
     "output_type": "stream",
     "text": [
      "Step 25, Metric: 79.976, Loss: 30736.629\n",
      "Step 50, Metric: 63.508, Loss: 23480.641\n",
      "Step 75, Metric: 67.143, Loss: 23843.727\n",
      "Step 100, Metric: 67.422, Loss: 22010.256\n",
      "Step 125, Metric: 65.654, Loss: 23634.754\n",
      "Step 150, Metric: 73.030, Loss: 22683.008\n",
      "Step 175, Metric: 84.351, Loss: 37960.688\n",
      "Step 25, Metric: 94.466, Loss: 44216.824\n",
      "Step 50, Metric: 82.179, Loss: 29926.129\n",
      "Step 75, Metric: 101.346, Loss: 49665.156\n",
      "Step 100, Metric: 68.996, Loss: 23342.051\n",
      "Step 125, Metric: 61.867, Loss: 17652.324\n",
      "Step 150, Metric: 70.633, Loss: 19446.002\n",
      "Step 175, Metric: 78.239, Loss: 32207.465\n"
     ]
    }
   ],
   "source": [
    "trained_params = train(rng=random.PRNGKey(15),\n",
    "      model=MLP([h for _ in range(num_h_layers)] + [m]),\n",
    "      optimizer=optax.adam(lr),\n",
    "      dataset=get_dataset(X_train, Y_train, batch_size),\n",
    "      loss_fn=jax_squared,\n",
    "      metric_fn=lambda a, b: jnp.sqrt(jax_squared(a, b)),\n",
    "      num_epochs=num_epochs,\n",
    "      inputs_shape=(1, p)\n",
    "     )"
   ]
  },
  {
   "cell_type": "code",
   "execution_count": null,
   "id": "fd920369-24fc-4b94-a49b-e6f3dd1827ca",
   "metadata": {},
   "outputs": [],
   "source": [
    "n = 10000\n",
    "p = 10\n",
    "\n",
    "key = random.PRNGKey(1515)\n",
    "key, init_key = random.split(key)\n",
    "X_linear = random.normal(init_key, shape=(n, p))\n",
    "key, init_key = random.split(key)\n",
    "beta = random.uniform(init_key, shape=(p,))\n",
    "key, init_key = random.split(key)\n",
    "noise = random.normal(init_key, shape=(n,))\n",
    "\n",
    "y_linear = noise + X_linear.dot(beta)"
   ]
  },
  {
   "cell_type": "code",
   "execution_count": null,
   "id": "dbad8854-3741-4840-9b1e-ae9a46e9b21b",
   "metadata": {},
   "outputs": [],
   "source": [
    "trained_params = train(rng=random.PRNGKey(15),\n",
    "      model=Resnet([10, 1]),\n",
    "      optimizer=optax.sgd(5 * 1e-3),\n",
    "      dataset=get_dataset(X_linear, y_linear, batch_size=32),\n",
    "      loss_fn=jax_squared,\n",
    "      metric_fn=jax_squared,\n",
    "      num_epochs=5,\n",
    "      inputs_shape=(1, p),\n",
    "      l2_scale=1e-3,\n",
    "     )"
   ]
  },
  {
   "cell_type": "code",
   "execution_count": null,
   "id": "a5301cb0-bbff-4049-b0ea-bb8848ef89a3",
   "metadata": {},
   "outputs": [],
   "source": [
    "beta"
   ]
  },
  {
   "cell_type": "code",
   "execution_count": null,
   "id": "435f4820-3896-44e8-b83f-2733a04c09f9",
   "metadata": {},
   "outputs": [],
   "source": [
    "test_key = random.PRNGKey(12097341324)\n",
    "test_input = random.normal(test_key, shape=(10,))\n",
    "test_input.dot(beta)"
   ]
  },
  {
   "cell_type": "code",
   "execution_count": null,
   "id": "dc7168bd-de08-4ca6-8786-653196e5dc58",
   "metadata": {},
   "outputs": [],
   "source": [
    "void_resnet = Resnet([10, 1])\n",
    "\n",
    "void_resnet.init(test_key, test_input)"
   ]
  },
  {
   "cell_type": "code",
   "execution_count": null,
   "id": "b3d3b55c-0405-4592-93ad-5ca263705a15",
   "metadata": {},
   "outputs": [],
   "source": [
    "void_resnet.apply(trained_params, test_input, train=False)"
   ]
  }
 ],
 "metadata": {
  "kernelspec": {
   "display_name": "Python 3",
   "language": "python",
   "name": "python3"
  },
  "language_info": {
   "codemirror_mode": {
    "name": "ipython",
    "version": 3
   },
   "file_extension": ".py",
   "mimetype": "text/x-python",
   "name": "python",
   "nbconvert_exporter": "python",
   "pygments_lexer": "ipython3",
   "version": "3.9.5"
  }
 },
 "nbformat": 4,
 "nbformat_minor": 5
}
