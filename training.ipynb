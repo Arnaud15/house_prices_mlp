{
 "cells": [
  {
   "cell_type": "markdown",
   "id": "5e8dd092-dcf9-4fe2-a9e3-d7906866f605",
   "metadata": {},
   "source": [
    "## Roadmap\n",
    "- [x] load data into a tf dataset in memory \n",
    "- [x] create a dummy MLP and training loop\n",
    "- [x] debug MLP on linear regression\n",
    "- [x] Add dummy regularization and make it a baby resnet\n",
    "    - Going for dropout and weight decay\n",
    "- [x] Split code nicely into several files\n",
    "- Apply Karpathy's guide on dummy data and then on normal data\n",
    "- [ ] Unit tests\n",
    "    - Understand how to specify neural net parameters init\n",
    "    - Understand init rngs and nn.module\n",
    "    - debug simple resnet training\n",
    "- [ ] Checkpointing and evaluation\n",
    "- [ ] Tensorboard\n",
    "- [ ] Baby version submission\n",
    "- [ ] GPU training on AWS\n",
    "- [ ] Rayon for training on several instances at the same time\n",
    "- [ ] Go all in on hyperparameters tuning"
   ]
  },
  {
   "cell_type": "markdown",
   "id": "00865f93-9354-486d-aeff-9d1f93298778",
   "metadata": {},
   "source": [
    "### 2. Init sanity"
   ]
  },
  {
   "cell_type": "markdown",
   "id": "2e750855-c235-4dc1-821a-430031c13f66",
   "metadata": {},
   "source": [
    "- init random seed\n",
    "- no fanciness (think regularization), yet\n",
    "- actual loss printing\n",
    "- correct init please\n",
    "- loss at init\n",
    "- human baseline -> no need on my synthetic data, I know the upper and lower bounds of perf\n",
    "- input indep baseline -> we should converge to the mean\n",
    "- overfit one batch\n",
    "- verify decreasing training loss\n",
    "- visualize just before the net\n",
    "- visualize prediction dynamics\n",
    "- use backprop to sanity check interactions"
   ]
  },
  {
   "cell_type": "markdown",
   "id": "cf2e8142-1e8c-423f-b716-a7714700e16c",
   "metadata": {},
   "source": [
    "### Notes\n",
    "- Understand `nn.compact`\n",
    "- Check out the source code for their train state"
   ]
  },
  {
   "cell_type": "markdown",
   "id": "eaa2e7c0-6735-4d2d-bfcf-6dfdfb5296ce",
   "metadata": {},
   "source": [
    "#### Imports"
   ]
  },
  {
   "cell_type": "code",
   "execution_count": 1,
   "id": "d0b09183-8971-48b1-9285-e6f5aef01bcc",
   "metadata": {},
   "outputs": [],
   "source": [
    "import matplotlib.pyplot as plt\n",
    "\n",
    "import jax\n",
    "import jax.random as random\n",
    "import jax.numpy as jnp\n",
    "import optax\n",
    "\n",
    "from data_loader import get_dataset, linear_data\n",
    "from models import MLP, Resnet\n",
    "from train import train, init_params\n",
    "from utils import poisson_loss, squared_loss"
   ]
  },
  {
   "cell_type": "markdown",
   "id": "f0b001cc-e056-421b-bae4-99a02b3c52f9",
   "metadata": {},
   "source": [
    "#### Load training data"
   ]
  },
  {
   "cell_type": "code",
   "execution_count": 2,
   "id": "f95da08e-8cfe-49cf-8a23-de200d7774c5",
   "metadata": {},
   "outputs": [
    {
     "name": "stderr",
     "output_type": "stream",
     "text": [
      "WARNING:absl:No GPU/TPU found, falling back to CPU. (Set TF_CPP_MIN_LOG_LEVEL=0 and rerun for more info.)\n"
     ]
    }
   ],
   "source": [
    "X_train, Y_train = linear_data(seed=15, n=1000, p=10, bias=15.0)"
   ]
  },
  {
   "cell_type": "markdown",
   "id": "6c86cb32-818e-4494-b8b4-06b76fa4266d",
   "metadata": {},
   "source": [
    "### 1. make one with the data"
   ]
  },
  {
   "cell_type": "code",
   "execution_count": 4,
   "id": "8b8e9948-05d3-4cba-9846-d75fc49aeeff",
   "metadata": {},
   "outputs": [
    {
     "data": {
      "text/plain": [
       "(1000,)"
      ]
     },
     "execution_count": 4,
     "metadata": {},
     "output_type": "execute_result"
    }
   ],
   "source": [
    "Y_train.shape"
   ]
  },
  {
   "cell_type": "code",
   "execution_count": 11,
   "id": "3b14c167-6de9-46e5-8c42-1ae898196f99",
   "metadata": {},
   "outputs": [],
   "source": [
    "plt.figure()\n",
    "plt.plot(Y_train)\n",
    "plt.show()\n",
    "plt.close()"
   ]
  },
  {
   "cell_type": "code",
   "execution_count": 14,
   "id": "5c43502a-646c-4662-9623-b5680946084e",
   "metadata": {},
   "outputs": [
    {
     "data": {
      "text/plain": [
       "(DeviceArray(15.045962, dtype=float32), DeviceArray(2.1840475, dtype=float32))"
      ]
     },
     "execution_count": 14,
     "metadata": {},
     "output_type": "execute_result"
    }
   ],
   "source": [
    "Y_train.mean(), Y_train.std()"
   ]
  },
  {
   "cell_type": "code",
   "execution_count": 13,
   "id": "82a010bc-563c-4918-8412-187273ee8b28",
   "metadata": {},
   "outputs": [
    {
     "data": {
      "text/plain": [
       "(DeviceArray([ 0.01137057,  0.01005887,  0.01693998, -0.05002026,\n",
       "              -0.01076224, -0.0156854 , -0.02256254,  0.00553981,\n",
       "              -0.0200922 , -0.00961938], dtype=float32),\n",
       " DeviceArray([0.99739987, 0.9881106 , 1.0309198 , 0.9692272 , 0.9714178 ,\n",
       "              1.0113798 , 0.9474586 , 0.99501777, 1.0120884 , 1.0414252 ],            dtype=float32))"
      ]
     },
     "execution_count": 13,
     "metadata": {},
     "output_type": "execute_result"
    }
   ],
   "source": [
    "X_train.mean(0), X_train.std(0)"
   ]
  },
  {
   "cell_type": "code",
   "execution_count": 15,
   "id": "a65ed225-1eb6-42e3-840c-0023dfb8bf6b",
   "metadata": {},
   "outputs": [
    {
     "data": {
      "text/plain": [
       "(10, 1000)"
      ]
     },
     "execution_count": 15,
     "metadata": {},
     "output_type": "execute_result"
    }
   ],
   "source": [
    "p, m = X_train.shape[1], Y_train.shape[0]\n",
    "p, m"
   ]
  },
  {
   "cell_type": "code",
   "execution_count": 16,
   "id": "93db07b7-36e6-4ed3-bd37-4b6c93bb4f48",
   "metadata": {},
   "outputs": [
    {
     "data": {
      "text/plain": [
       "(10, 1000)"
      ]
     },
     "execution_count": 16,
     "metadata": {},
     "output_type": "execute_result"
    }
   ],
   "source": [
    "n_hidden_layers = 2\n",
    "layer_size = p\n",
    "\n",
    "lr = 5.0 * 1e-3  # learning rate\n",
    "num_epochs = 30\n",
    "batch_size = 32\n",
    "\n",
    "jax_squared = jax.vmap(jax.jit(squared_loss), in_axes=0)\n",
    "\n",
    "p, m"
   ]
  },
  {
   "cell_type": "code",
   "execution_count": 17,
   "id": "46a62021-2d55-4ca9-b659-46dafb583adf",
   "metadata": {},
   "outputs": [],
   "source": [
    "model = Resnet([layer_size for _ in range(n_hidden_layers)] + [1], dropout=False)\n",
    "optim = optax.adam(lr)"
   ]
  },
  {
   "cell_type": "code",
   "execution_count": 15,
   "id": "dbad8854-3741-4840-9b1e-ae9a46e9b21b",
   "metadata": {},
   "outputs": [
    {
     "name": "stdout",
     "output_type": "stream",
     "text": [
      "Step 1, Metric: 2.560, Loss: 6.556\n",
      "Step 2, Metric: 2.413, Loss: 5.822\n",
      "Step 3, Metric: 2.285, Loss: 5.220\n",
      "Step 4, Metric: 2.165, Loss: 4.686\n",
      "Step 5, Metric: 2.055, Loss: 4.225\n",
      "Step 6, Metric: 1.950, Loss: 3.801\n",
      "Step 7, Metric: 1.840, Loss: 3.385\n",
      "Step 8, Metric: 1.730, Loss: 2.993\n",
      "Step 9, Metric: 1.628, Loss: 2.651\n",
      "Step 10, Metric: 1.530, Loss: 2.341\n",
      "Step 11, Metric: 1.431, Loss: 2.049\n",
      "Step 12, Metric: 1.340, Loss: 1.796\n",
      "Step 13, Metric: 1.259, Loss: 1.585\n",
      "Step 14, Metric: 1.191, Loss: 1.419\n",
      "Step 15, Metric: 1.137, Loss: 1.294\n",
      "Step 16, Metric: 1.094, Loss: 1.197\n",
      "Step 17, Metric: 1.062, Loss: 1.128\n",
      "Step 18, Metric: 1.039, Loss: 1.079\n",
      "Step 19, Metric: 1.023, Loss: 1.046\n",
      "Step 20, Metric: 1.003, Loss: 1.007\n",
      "Step 21, Metric: 0.975, Loss: 0.951\n",
      "Step 22, Metric: 0.936, Loss: 0.876\n",
      "Step 23, Metric: 0.890, Loss: 0.793\n",
      "Step 24, Metric: 0.844, Loss: 0.713\n",
      "Step 25, Metric: 0.802, Loss: 0.643\n",
      "Step 26, Metric: 0.766, Loss: 0.587\n",
      "Step 27, Metric: 0.738, Loss: 0.545\n",
      "Step 28, Metric: 0.719, Loss: 0.517\n",
      "Step 29, Metric: 0.708, Loss: 0.501\n",
      "Step 30, Metric: 0.698, Loss: 0.488\n"
     ]
    }
   ],
   "source": [
    "trained_params = train(rng=random.PRNGKey(1515),\n",
    "      model=model,\n",
    "      optimizer=optim,\n",
    "      dataset=get_dataset(X_train, Y_train, batch_size=batch_size, single_batch=True),\n",
    "      loss_fn=jax_squared,\n",
    "      metric_fn=jax_squared,\n",
    "      num_epochs=num_epochs,\n",
    "      inputs_shape=(p,),\n",
    "      bias=bias,\n",
    "      layer_name=str(n_hidden_layers),\n",
    "      print_every=1,\n",
    "      output_dir=\"logs\",\n",
    "      hist_every=1,\n",
    "     )"
   ]
  },
  {
   "cell_type": "code",
   "execution_count": null,
   "id": "a5301cb0-bbff-4049-b0ea-bb8848ef89a3",
   "metadata": {},
   "outputs": [],
   "source": [
    "beta"
   ]
  },
  {
   "cell_type": "code",
   "execution_count": null,
   "id": "435f4820-3896-44e8-b83f-2733a04c09f9",
   "metadata": {},
   "outputs": [],
   "source": [
    "test_key = random.PRNGKey(12097341324)\n",
    "test_input = random.normal(test_key, shape=(10,))\n",
    "test_input.dot(beta)"
   ]
  },
  {
   "cell_type": "code",
   "execution_count": null,
   "id": "dc7168bd-de08-4ca6-8786-653196e5dc58",
   "metadata": {},
   "outputs": [],
   "source": [
    "void_resnet = Resnet([10, 1])\n",
    "\n",
    "void_resnet.init(test_key, test_input)"
   ]
  },
  {
   "cell_type": "code",
   "execution_count": null,
   "id": "b3d3b55c-0405-4592-93ad-5ca263705a15",
   "metadata": {},
   "outputs": [],
   "source": [
    "void_resnet.apply(trained_params, test_input, train=False)"
   ]
  },
  {
   "cell_type": "code",
   "execution_count": null,
   "id": "332fd235-9adf-4744-b45c-460e0c4d3ce6",
   "metadata": {},
   "outputs": [],
   "source": []
  }
 ],
 "metadata": {
  "kernelspec": {
   "display_name": "Python 3",
   "language": "python",
   "name": "python3"
  },
  "language_info": {
   "codemirror_mode": {
    "name": "ipython",
    "version": 3
   },
   "file_extension": ".py",
   "mimetype": "text/x-python",
   "name": "python",
   "nbconvert_exporter": "python",
   "pygments_lexer": "ipython3",
   "version": "3.9.5"
  }
 },
 "nbformat": 4,
 "nbformat_minor": 5
}
