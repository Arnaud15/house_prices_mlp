{
 "cells": [
  {
   "cell_type": "markdown",
   "id": "5e8dd092-dcf9-4fe2-a9e3-d7906866f605",
   "metadata": {},
   "source": [
    "## Roadmap\n",
    "- [x] load data into a tf dataset in memory \n",
    "- [x] create a dummy MLP and training loop\n",
    "- [x] debug MLP on linear regression\n",
    "- [x] Add dummy regularization and make it a baby resnet\n",
    "    - Going for dropout and weight decay\n",
    "- [x] Split code nicely into several files\n",
    "- Apply Karpathy's guide on dummy data and then on normal data\n",
    "- [ ] Unit tests\n",
    "    - Understand how to specify neural net parameters init\n",
    "    - Understand init rngs and nn.module\n",
    "    - debug simple resnet training\n",
    "- [ ] Checkpointing and evaluation\n",
    "- [ ] Tensorboard\n",
    "- [ ] Baby version submission\n",
    "- [ ] GPU training on AWS\n",
    "- [ ] Rayon for training on several instances at the same time\n",
    "- [ ] Go all in on hyperparameters tuning"
   ]
  },
  {
   "cell_type": "markdown",
   "id": "cf2e8142-1e8c-423f-b716-a7714700e16c",
   "metadata": {},
   "source": [
    "### Notes\n",
    "- Understand `nn.compact`\n",
    "- Check out the source code for their train state"
   ]
  },
  {
   "cell_type": "markdown",
   "id": "eaa2e7c0-6735-4d2d-bfcf-6dfdfb5296ce",
   "metadata": {},
   "source": [
    "#### Imports"
   ]
  },
  {
   "cell_type": "code",
   "execution_count": 1,
   "id": "d0b09183-8971-48b1-9285-e6f5aef01bcc",
   "metadata": {},
   "outputs": [],
   "source": [
    "import matplotlib.pyplot as plt\n",
    "import numpy as np\n",
    "\n",
    "import jax\n",
    "import jax.random as random\n",
    "import jax.numpy as jnp\n",
    "import optax\n",
    "\n",
    "from data_loader import get_dataset\n",
    "from models import MLP, Resnet\n",
    "from train import train, init_params\n",
    "from utils import poisson_loss, squared_loss"
   ]
  },
  {
   "cell_type": "markdown",
   "id": "f0b001cc-e056-421b-bae4-99a02b3c52f9",
   "metadata": {},
   "source": [
    "#### Load training data"
   ]
  },
  {
   "cell_type": "code",
   "execution_count": 2,
   "id": "8a2ee254-77e3-4d6f-a3bb-2a2eb1819f44",
   "metadata": {},
   "outputs": [
    {
     "name": "stderr",
     "output_type": "stream",
     "text": [
      "WARNING:absl:No GPU/TPU found, falling back to CPU. (Set TF_CPP_MIN_LOG_LEVEL=0 and rerun for more info.)\n"
     ]
    }
   ],
   "source": [
    "n1, n2 = 1000, 10\n",
    "\n",
    "exp_seed = random.PRNGKey(15)\n",
    "exp_seed, out1_key, out2_key, out3_key= random.split(exp_seed, 4)"
   ]
  },
  {
   "cell_type": "code",
   "execution_count": 3,
   "id": "08116146-d2ff-4c54-b20d-70c8157c6472",
   "metadata": {},
   "outputs": [],
   "source": [
    "X_train = random.normal(out1_key, shape=(n1, n2))\n",
    "noise = random.normal(out2_key, shape=(n1,))\n",
    "beta = 2 * (random.uniform(out3_key, shape=(n2,)) - 0.5)\n",
    "bias = 15.0\n",
    "Y_train = X_train.dot(beta) + noise + bias"
   ]
  },
  {
   "cell_type": "markdown",
   "id": "6c86cb32-818e-4494-b8b4-06b76fa4266d",
   "metadata": {},
   "source": [
    "### 1. make one with the data"
   ]
  },
  {
   "cell_type": "code",
   "execution_count": 4,
   "id": "3b14c167-6de9-46e5-8c42-1ae898196f99",
   "metadata": {},
   "outputs": [
    {
     "data": {
      "text/plain": [
       "(array([ 11.,  37.,  87., 152., 208., 217., 167.,  89.,  24.,   8.]),\n",
       " array([ 8.766335, 10.028314, 11.290293, 12.552271, 13.81425 , 15.076229,\n",
       "        16.338207, 17.600187, 18.862165, 20.124146, 21.386124],\n",
       "       dtype=float32),\n",
       " <BarContainer object of 10 artists>)"
      ]
     },
     "execution_count": 4,
     "metadata": {},
     "output_type": "execute_result"
    },
    {
     "data": {
      "image/png": "[encoded data removed]",
      "text/plain": [
       "<Figure size 432x288 with 1 Axes>"
      ]
     },
     "metadata": {
      "needs_background": "light"
     },
     "output_type": "display_data"
    }
   ],
   "source": [
    "plt.hist(Y_train)"
   ]
  },
  {
   "cell_type": "code",
   "execution_count": 27,
   "id": "5c43502a-646c-4662-9623-b5680946084e",
   "metadata": {},
   "outputs": [
    {
     "data": {
      "text/plain": [
       "DeviceArray(2.1840475, dtype=float32)"
      ]
     },
     "execution_count": 27,
     "metadata": {},
     "output_type": "execute_result"
    }
   ],
   "source": [
    "Y_train.std()"
   ]
  },
  {
   "cell_type": "code",
   "execution_count": 5,
   "id": "82a010bc-563c-4918-8412-187273ee8b28",
   "metadata": {},
   "outputs": [
    {
     "data": {
      "text/plain": [
       "(DeviceArray([ 0.01137057,  0.01005887,  0.01693998, -0.05002026,\n",
       "              -0.01076224, -0.0156854 , -0.02256254,  0.00553981,\n",
       "              -0.0200922 , -0.00961938], dtype=float32),\n",
       " DeviceArray([0.99739987, 0.9881106 , 1.0309198 , 0.9692272 , 0.9714178 ,\n",
       "              1.0113798 , 0.9474586 , 0.99501777, 1.0120884 , 1.0414252 ],            dtype=float32))"
      ]
     },
     "execution_count": 5,
     "metadata": {},
     "output_type": "execute_result"
    }
   ],
   "source": [
    "X_train.mean(0), X_train.std(0)"
   ]
  },
  {
   "cell_type": "markdown",
   "id": "00865f93-9354-486d-aeff-9d1f93298778",
   "metadata": {},
   "source": [
    "### 2. Init sanity"
   ]
  },
  {
   "cell_type": "markdown",
   "id": "2e750855-c235-4dc1-821a-430031c13f66",
   "metadata": {},
   "source": [
    "- init random seed\n",
    "- no fanciness (think regularization), yet\n",
    "- actual loss printing\n",
    "- correct init please\n",
    "- loss at init\n",
    "- human baseline -> no need on my synthetic data, I know the upper and lower bounds of perf\n",
    "- input indep baseline -> we should converge to the mean\n",
    "- overfit one batch\n",
    "- verify decreasing training loss\n",
    "- visualize just before the net\n",
    "- visualize prediction dynamics\n",
    "- use backprop to sanity check interactions"
   ]
  },
  {
   "cell_type": "code",
   "execution_count": 6,
   "id": "a65ed225-1eb6-42e3-840c-0023dfb8bf6b",
   "metadata": {},
   "outputs": [
    {
     "data": {
      "text/plain": [
       "(10, 1000)"
      ]
     },
     "execution_count": 6,
     "metadata": {},
     "output_type": "execute_result"
    }
   ],
   "source": [
    "p, m = X_train.shape[1], Y_train.shape[0]\n",
    "p, m"
   ]
  },
  {
   "cell_type": "code",
   "execution_count": 28,
   "id": "93db07b7-36e6-4ed3-bd37-4b6c93bb4f48",
   "metadata": {},
   "outputs": [
    {
     "data": {
      "text/plain": [
       "(10, 1000)"
      ]
     },
     "execution_count": 28,
     "metadata": {},
     "output_type": "execute_result"
    }
   ],
   "source": [
    "n_hidden_layers = 2\n",
    "layer_size = p\n",
    "\n",
    "lr = 1e-1  # learning rate\n",
    "num_epochs = 50\n",
    "batch_size = 10000\n",
    "\n",
    "jax_squared = jax.vmap(jax.jit(squared_loss), in_axes=0)\n",
    "\n",
    "p, m"
   ]
  },
  {
   "cell_type": "code",
   "execution_count": 29,
   "id": "46a62021-2d55-4ca9-b659-46dafb583adf",
   "metadata": {},
   "outputs": [],
   "source": [
    "model = Resnet([layer_size for _ in range(n_hidden_layers)] + [1])\n",
    "optim = optax.adam(lr)"
   ]
  },
  {
   "cell_type": "markdown",
   "id": "db36cd3b-38c2-44a5-916b-3485069420ae",
   "metadata": {},
   "source": [
    "- dummy input check that we have something around what we expect\n",
    "- viz just before the net (every so often, in tensorboard?)"
   ]
  },
  {
   "cell_type": "code",
   "execution_count": 30,
   "id": "aebb0075-6988-4ae4-8b6b-704e811d876e",
   "metadata": {},
   "outputs": [
    {
     "data": {
      "text/plain": [
       "DeviceArray([ 1.2285439e-01, -2.2604983e+00, -6.1609256e-01,\n",
       "              1.0130738e+00,  7.8659046e-01,  2.1171515e-01,\n",
       "              3.4737816e-01, -7.7392661e-04,  6.0562211e-01,\n",
       "             -1.7524540e-01], dtype=float32)"
      ]
     },
     "execution_count": 30,
     "metadata": {},
     "output_type": "execute_result"
    }
   ],
   "source": [
    "key, apply_rng = random.split(random.PRNGKey(123412514533214), 2)\n",
    "dumb_input = random.normal(key, (p,))\n",
    "dumb_input"
   ]
  },
  {
   "cell_type": "code",
   "execution_count": 31,
   "id": "e1be303b-af04-4b27-b01e-ad0346df6ba8",
   "metadata": {},
   "outputs": [
    {
     "data": {
      "text/plain": [
       "DeviceArray([15.695716], dtype=float32)"
      ]
     },
     "execution_count": 31,
     "metadata": {},
     "output_type": "execute_result"
    }
   ],
   "source": [
    "biased_params = init_params(apply_rng, model, (p,), bias, str(n_hidden_layers))\n",
    "model.apply(biased_params, dumb_input)"
   ]
  },
  {
   "cell_type": "code",
   "execution_count": null,
   "id": "dbad8854-3741-4840-9b1e-ae9a46e9b21b",
   "metadata": {},
   "outputs": [
    {
     "name": "stdout",
     "output_type": "stream",
     "text": [
      "Step 1, Metric: 2.391, Loss: 5.718\n",
      "Step 1, Metric: 1.674, Loss: 2.801\n",
      "Step 1, Metric: 1.382, Loss: 1.909\n",
      "Step 1, Metric: 1.392, Loss: 1.937\n",
      "Step 1, Metric: 1.117, Loss: 1.247\n",
      "Step 1, Metric: 1.148, Loss: 1.317\n",
      "Step 1, Metric: 1.183, Loss: 1.400\n",
      "Step 1, Metric: 1.147, Loss: 1.315\n",
      "Step 1, Metric: 1.095, Loss: 1.200\n",
      "Step 1, Metric: 1.099, Loss: 1.207\n",
      "Step 1, Metric: 1.082, Loss: 1.171\n",
      "Step 1, Metric: 1.021, Loss: 1.043\n",
      "Step 1, Metric: 1.005, Loss: 1.010\n",
      "Step 1, Metric: 1.013, Loss: 1.027\n",
      "Step 1, Metric: 1.003, Loss: 1.006\n",
      "Step 1, Metric: 1.002, Loss: 1.004\n",
      "Step 1, Metric: 0.998, Loss: 0.996\n",
      "Step 1, Metric: 0.984, Loss: 0.968\n",
      "Step 1, Metric: 0.990, Loss: 0.979\n",
      "Step 1, Metric: 0.983, Loss: 0.966\n",
      "Step 1, Metric: 0.968, Loss: 0.937\n",
      "Step 1, Metric: 0.970, Loss: 0.942\n",
      "Step 1, Metric: 0.970, Loss: 0.940\n",
      "Step 1, Metric: 0.964, Loss: 0.930\n",
      "Step 1, Metric: 0.964, Loss: 0.929\n",
      "Step 1, Metric: 0.958, Loss: 0.917\n",
      "Step 1, Metric: 0.955, Loss: 0.912\n",
      "Step 1, Metric: 0.957, Loss: 0.915\n",
      "Step 1, Metric: 0.949, Loss: 0.901\n",
      "Step 1, Metric: 0.946, Loss: 0.895\n",
      "Step 1, Metric: 0.948, Loss: 0.898\n",
      "Step 1, Metric: 0.945, Loss: 0.893\n",
      "Step 1, Metric: 0.945, Loss: 0.893\n",
      "Step 1, Metric: 0.943, Loss: 0.890\n",
      "Step 1, Metric: 0.942, Loss: 0.887\n",
      "Step 1, Metric: 0.943, Loss: 0.889\n",
      "Step 1, Metric: 0.939, Loss: 0.881\n",
      "Step 1, Metric: 0.937, Loss: 0.879\n",
      "Step 1, Metric: 0.937, Loss: 0.878\n",
      "Step 1, Metric: 0.934, Loss: 0.873\n",
      "Step 1, Metric: 0.933, Loss: 0.871\n",
      "Step 1, Metric: 0.931, Loss: 0.867\n",
      "Step 1, Metric: 0.931, Loss: 0.867\n",
      "Step 1, Metric: 0.930, Loss: 0.864\n",
      "Step 1, Metric: 0.928, Loss: 0.861\n",
      "Step 1, Metric: 0.928, Loss: 0.862\n",
      "Step 1, Metric: 0.927, Loss: 0.859\n",
      "Step 1, Metric: 0.926, Loss: 0.857\n"
     ]
    }
   ],
   "source": [
    "trained_params = train(rng=random.PRNGKey(1515),\n",
    "      model=model,\n",
    "      optimizer=optim,\n",
    "      dataset=get_dataset(X_train, Y_train, batch_size=batch_size, single_batch=True),\n",
    "      loss_fn=jax_squared,\n",
    "      metric_fn=jax_squared,\n",
    "      num_epochs=num_epochs,\n",
    "      inputs_shape=(p,),\n",
    "      bias=bias,\n",
    "      layer_name=str(n_hidden_layers)\n",
    "     )"
   ]
  },
  {
   "cell_type": "code",
   "execution_count": 21,
   "id": "a5301cb0-bbff-4049-b0ea-bb8848ef89a3",
   "metadata": {},
   "outputs": [
    {
     "data": {
      "text/plain": [
       "DeviceArray([ 0.004987  ,  0.6971359 ,  0.7703917 , -0.7560258 ,\n",
       "             -0.3874371 , -0.6109004 ,  0.26761937, -0.39852762,\n",
       "             -0.5904341 ,  0.998075  ], dtype=float32)"
      ]
     },
     "execution_count": 21,
     "metadata": {},
     "output_type": "execute_result"
    }
   ],
   "source": [
    "beta"
   ]
  },
  {
   "cell_type": "code",
   "execution_count": 13,
   "id": "435f4820-3896-44e8-b83f-2733a04c09f9",
   "metadata": {},
   "outputs": [
    {
     "data": {
      "text/plain": [
       "DeviceArray(0.6110528, dtype=float32)"
      ]
     },
     "execution_count": 13,
     "metadata": {},
     "output_type": "execute_result"
    }
   ],
   "source": [
    "test_key = random.PRNGKey(12097341324)\n",
    "test_input = random.normal(test_key, shape=(10,))\n",
    "test_input.dot(beta)"
   ]
  },
  {
   "cell_type": "code",
   "execution_count": 14,
   "id": "dc7168bd-de08-4ca6-8786-653196e5dc58",
   "metadata": {},
   "outputs": [
    {
     "data": {
      "text/plain": [
       "FrozenDict({\n",
       "    params: {\n",
       "        Dense_0: {\n",
       "            kernel: DeviceArray([[-0.20926918, -0.01068525,  0.15101431, -0.28913864,\n",
       "                          -0.2387641 , -0.45487297,  0.28557947, -0.07649882,\n",
       "                          -0.12096991, -0.01703089],\n",
       "                         [-0.67760056,  0.09202313, -0.09294838, -0.67426246,\n",
       "                           0.02269693, -0.36098477, -0.33583322, -0.00211759,\n",
       "                          -0.5865531 ,  0.3732147 ],\n",
       "                         [-0.19012551,  0.43210122,  0.15709919, -0.6090087 ,\n",
       "                          -0.11697897,  0.30257472,  0.33299333, -0.4752703 ,\n",
       "                           0.11094531, -0.11588252],\n",
       "                         [ 0.38062447, -0.55905503, -0.02018812,  0.58276933,\n",
       "                          -0.6763193 , -0.37450963, -0.16405725,  0.24992332,\n",
       "                           0.22041853, -0.5372677 ],\n",
       "                         [ 0.5582964 ,  0.03248841,  0.32550335,  0.1469218 ,\n",
       "                          -0.11850146, -0.06581892, -0.01944432, -0.33797568,\n",
       "                           0.10078344, -0.46826956],\n",
       "                         [ 0.29516524, -0.06057724,  0.18257307, -0.06889743,\n",
       "                           0.01627244,  0.0356281 , -0.29919302,  0.29733416,\n",
       "                          -0.08956264, -0.13004681],\n",
       "                         [ 0.48844907, -0.06197164, -0.11548814,  0.17888646,\n",
       "                          -0.02198334, -0.43758333,  0.1815657 ,  0.33117026,\n",
       "                           0.37234193, -0.52182233],\n",
       "                         [-0.1301368 ,  0.00837572, -0.3189768 , -0.21358144,\n",
       "                          -0.26807877, -0.1496288 , -0.00844547,  0.30269584,\n",
       "                          -0.14661029,  0.40223387],\n",
       "                         [ 0.01628085, -0.22025806,  0.16894634,  0.07253949,\n",
       "                          -0.13579252,  0.11090165, -0.21165237, -0.13528302,\n",
       "                          -0.07003216,  0.42121494],\n",
       "                         [ 0.30690432,  0.02593259, -0.08601314, -0.70940435,\n",
       "                          -0.6848866 ,  0.29057512,  0.18109733, -0.6470294 ,\n",
       "                           0.02610571,  0.3594661 ]], dtype=float32),\n",
       "            bias: DeviceArray([0., 0., 0., 0., 0., 0., 0., 0., 0., 0.], dtype=float32),\n",
       "        },\n",
       "        Dense_1: {\n",
       "            kernel: DeviceArray([[ 0.06441606],\n",
       "                         [ 0.00104105],\n",
       "                         [ 0.57851493],\n",
       "                         [ 0.19165578],\n",
       "                         [-0.33009988],\n",
       "                         [-0.00333433],\n",
       "                         [-0.11248507],\n",
       "                         [ 0.0617989 ],\n",
       "                         [ 0.10992318],\n",
       "                         [ 0.12849717]], dtype=float32),\n",
       "            bias: DeviceArray([0.], dtype=float32),\n",
       "        },\n",
       "    },\n",
       "})"
      ]
     },
     "execution_count": 14,
     "metadata": {},
     "output_type": "execute_result"
    }
   ],
   "source": [
    "void_resnet = Resnet([10, 1])\n",
    "\n",
    "void_resnet.init(test_key, test_input)"
   ]
  },
  {
   "cell_type": "code",
   "execution_count": 15,
   "id": "b3d3b55c-0405-4592-93ad-5ca263705a15",
   "metadata": {},
   "outputs": [
    {
     "ename": "ScopeParamShapeError",
     "evalue": "Inconsistent shapes between value and initializer for parameter \"kernel\" in \"/Dense_1\": (10, 10), (10, 1). (https://flax.readthedocs.io/en/latest/flax.errors.html#flax.errors.ScopeParamShapeError)",
     "output_type": "error",
     "traceback": [
      "\u001b[0;31m---------------------------------------------------------------------------\u001b[0m",
      "\u001b[0;31mScopeParamShapeError\u001b[0m                      Traceback (most recent call last)",
      "\u001b[0;32m<ipython-input-15-020ab0d4b07d>\u001b[0m in \u001b[0;36m<module>\u001b[0;34m\u001b[0m\n\u001b[0;32m----> 1\u001b[0;31m \u001b[0mvoid_resnet\u001b[0m\u001b[0;34m.\u001b[0m\u001b[0mapply\u001b[0m\u001b[0;34m(\u001b[0m\u001b[0mtrained_params\u001b[0m\u001b[0;34m,\u001b[0m \u001b[0mtest_input\u001b[0m\u001b[0;34m,\u001b[0m \u001b[0mtrain\u001b[0m\u001b[0;34m=\u001b[0m\u001b[0;32mFalse\u001b[0m\u001b[0;34m)\u001b[0m\u001b[0;34m\u001b[0m\u001b[0;34m\u001b[0m\u001b[0m\n\u001b[0m",
      "\u001b[0;32m~/miniconda3/envs/jax/lib/python3.9/site-packages/flax/linen/module.py\u001b[0m in \u001b[0;36mapply\u001b[0;34m(self, variables, rngs, method, mutable, capture_intermediates, *args, **kwargs)\u001b[0m\n\u001b[1;32m    934\u001b[0m       \u001b[0mmethod\u001b[0m \u001b[0;34m=\u001b[0m \u001b[0mself\u001b[0m\u001b[0;34m.\u001b[0m\u001b[0m__call__\u001b[0m\u001b[0;34m\u001b[0m\u001b[0;34m\u001b[0m\u001b[0m\n\u001b[1;32m    935\u001b[0m     \u001b[0mmethod\u001b[0m \u001b[0;34m=\u001b[0m \u001b[0m_get_unbound_fn\u001b[0m\u001b[0;34m(\u001b[0m\u001b[0mmethod\u001b[0m\u001b[0;34m)\u001b[0m\u001b[0;34m\u001b[0m\u001b[0;34m\u001b[0m\u001b[0m\n\u001b[0;32m--> 936\u001b[0;31m     return apply(\n\u001b[0m\u001b[1;32m    937\u001b[0m         \u001b[0mmethod\u001b[0m\u001b[0;34m,\u001b[0m \u001b[0mself\u001b[0m\u001b[0;34m,\u001b[0m\u001b[0;34m\u001b[0m\u001b[0;34m\u001b[0m\u001b[0m\n\u001b[1;32m    938\u001b[0m         \u001b[0mmutable\u001b[0m\u001b[0;34m=\u001b[0m\u001b[0mmutable\u001b[0m\u001b[0;34m,\u001b[0m \u001b[0mcapture_intermediates\u001b[0m\u001b[0;34m=\u001b[0m\u001b[0mcapture_intermediates\u001b[0m\u001b[0;34m\u001b[0m\u001b[0;34m\u001b[0m\u001b[0m\n",
      "\u001b[0;32m~/miniconda3/envs/jax/lib/python3.9/site-packages/flax/core/scope.py\u001b[0m in \u001b[0;36mwrapper\u001b[0;34m(variables, rngs, *args, **kwargs)\u001b[0m\n\u001b[1;32m    685\u001b[0m               **kwargs) -> Union[Any, Tuple[Any, VariableDict]]:\n\u001b[1;32m    686\u001b[0m     \u001b[0;32mwith\u001b[0m \u001b[0mbind\u001b[0m\u001b[0;34m(\u001b[0m\u001b[0mvariables\u001b[0m\u001b[0;34m,\u001b[0m \u001b[0mrngs\u001b[0m\u001b[0;34m=\u001b[0m\u001b[0mrngs\u001b[0m\u001b[0;34m,\u001b[0m \u001b[0mmutable\u001b[0m\u001b[0;34m=\u001b[0m\u001b[0mmutable\u001b[0m\u001b[0;34m)\u001b[0m\u001b[0;34m.\u001b[0m\u001b[0mtemporary\u001b[0m\u001b[0;34m(\u001b[0m\u001b[0;34m)\u001b[0m \u001b[0;32mas\u001b[0m \u001b[0mroot\u001b[0m\u001b[0;34m:\u001b[0m\u001b[0;34m\u001b[0m\u001b[0;34m\u001b[0m\u001b[0m\n\u001b[0;32m--> 687\u001b[0;31m       \u001b[0my\u001b[0m \u001b[0;34m=\u001b[0m \u001b[0mfn\u001b[0m\u001b[0;34m(\u001b[0m\u001b[0mroot\u001b[0m\u001b[0;34m,\u001b[0m \u001b[0;34m*\u001b[0m\u001b[0margs\u001b[0m\u001b[0;34m,\u001b[0m \u001b[0;34m**\u001b[0m\u001b[0mkwargs\u001b[0m\u001b[0;34m)\u001b[0m\u001b[0;34m\u001b[0m\u001b[0;34m\u001b[0m\u001b[0m\n\u001b[0m\u001b[1;32m    688\u001b[0m     \u001b[0;32mif\u001b[0m \u001b[0mmutable\u001b[0m \u001b[0;32mis\u001b[0m \u001b[0;32mnot\u001b[0m \u001b[0;32mFalse\u001b[0m\u001b[0;34m:\u001b[0m\u001b[0;34m\u001b[0m\u001b[0;34m\u001b[0m\u001b[0m\n\u001b[1;32m    689\u001b[0m       \u001b[0;32mreturn\u001b[0m \u001b[0my\u001b[0m\u001b[0;34m,\u001b[0m \u001b[0mroot\u001b[0m\u001b[0;34m.\u001b[0m\u001b[0mmutable_variables\u001b[0m\u001b[0;34m(\u001b[0m\u001b[0;34m)\u001b[0m\u001b[0;34m\u001b[0m\u001b[0;34m\u001b[0m\u001b[0m\n",
      "\u001b[0;32m~/miniconda3/envs/jax/lib/python3.9/site-packages/flax/linen/module.py\u001b[0m in \u001b[0;36mscope_fn\u001b[0;34m(scope, *args, **kwargs)\u001b[0m\n\u001b[1;32m   1176\u001b[0m     \u001b[0m_context\u001b[0m\u001b[0;34m.\u001b[0m\u001b[0mcapture_stack\u001b[0m\u001b[0;34m.\u001b[0m\u001b[0mappend\u001b[0m\u001b[0;34m(\u001b[0m\u001b[0mcapture_intermediates\u001b[0m\u001b[0;34m)\u001b[0m\u001b[0;34m\u001b[0m\u001b[0;34m\u001b[0m\u001b[0m\n\u001b[1;32m   1177\u001b[0m     \u001b[0;32mtry\u001b[0m\u001b[0;34m:\u001b[0m\u001b[0;34m\u001b[0m\u001b[0;34m\u001b[0m\u001b[0m\n\u001b[0;32m-> 1178\u001b[0;31m       \u001b[0;32mreturn\u001b[0m \u001b[0mfn\u001b[0m\u001b[0;34m(\u001b[0m\u001b[0mmodule\u001b[0m\u001b[0;34m.\u001b[0m\u001b[0mclone\u001b[0m\u001b[0;34m(\u001b[0m\u001b[0mparent\u001b[0m\u001b[0;34m=\u001b[0m\u001b[0mscope\u001b[0m\u001b[0;34m)\u001b[0m\u001b[0;34m,\u001b[0m \u001b[0;34m*\u001b[0m\u001b[0margs\u001b[0m\u001b[0;34m,\u001b[0m \u001b[0;34m**\u001b[0m\u001b[0mkwargs\u001b[0m\u001b[0;34m)\u001b[0m\u001b[0;34m\u001b[0m\u001b[0;34m\u001b[0m\u001b[0m\n\u001b[0m\u001b[1;32m   1179\u001b[0m     \u001b[0;32mfinally\u001b[0m\u001b[0;34m:\u001b[0m\u001b[0;34m\u001b[0m\u001b[0;34m\u001b[0m\u001b[0m\n\u001b[1;32m   1180\u001b[0m       \u001b[0m_context\u001b[0m\u001b[0;34m.\u001b[0m\u001b[0mcapture_stack\u001b[0m\u001b[0;34m.\u001b[0m\u001b[0mpop\u001b[0m\u001b[0;34m(\u001b[0m\u001b[0;34m)\u001b[0m\u001b[0;34m\u001b[0m\u001b[0;34m\u001b[0m\u001b[0m\n",
      "\u001b[0;32m~/miniconda3/envs/jax/lib/python3.9/site-packages/flax/linen/module.py\u001b[0m in \u001b[0;36mwrapped_module_method\u001b[0;34m(*args, **kwargs)\u001b[0m\n\u001b[1;32m    273\u001b[0m     \u001b[0m_context\u001b[0m\u001b[0;34m.\u001b[0m\u001b[0mmodule_stack\u001b[0m\u001b[0;34m.\u001b[0m\u001b[0mappend\u001b[0m\u001b[0;34m(\u001b[0m\u001b[0mself\u001b[0m\u001b[0;34m)\u001b[0m\u001b[0;34m\u001b[0m\u001b[0;34m\u001b[0m\u001b[0m\n\u001b[1;32m    274\u001b[0m     \u001b[0;32mtry\u001b[0m\u001b[0;34m:\u001b[0m\u001b[0;34m\u001b[0m\u001b[0;34m\u001b[0m\u001b[0m\n\u001b[0;32m--> 275\u001b[0;31m       \u001b[0my\u001b[0m \u001b[0;34m=\u001b[0m \u001b[0mfun\u001b[0m\u001b[0;34m(\u001b[0m\u001b[0mself\u001b[0m\u001b[0;34m,\u001b[0m \u001b[0;34m*\u001b[0m\u001b[0margs\u001b[0m\u001b[0;34m,\u001b[0m \u001b[0;34m**\u001b[0m\u001b[0mkwargs\u001b[0m\u001b[0;34m)\u001b[0m\u001b[0;34m\u001b[0m\u001b[0;34m\u001b[0m\u001b[0m\n\u001b[0m\u001b[1;32m    276\u001b[0m       \u001b[0;32mif\u001b[0m \u001b[0m_context\u001b[0m\u001b[0;34m.\u001b[0m\u001b[0mcapture_stack\u001b[0m\u001b[0;34m:\u001b[0m\u001b[0;34m\u001b[0m\u001b[0;34m\u001b[0m\u001b[0m\n\u001b[1;32m    277\u001b[0m         \u001b[0mfilter_fn\u001b[0m \u001b[0;34m=\u001b[0m \u001b[0m_context\u001b[0m\u001b[0;34m.\u001b[0m\u001b[0mcapture_stack\u001b[0m\u001b[0;34m[\u001b[0m\u001b[0;34m-\u001b[0m\u001b[0;36m1\u001b[0m\u001b[0;34m]\u001b[0m\u001b[0;34m\u001b[0m\u001b[0;34m\u001b[0m\u001b[0m\n",
      "\u001b[0;32m~/tfdata_playground/models.py\u001b[0m in \u001b[0;36m__call__\u001b[0;34m(self, x, train)\u001b[0m\n\u001b[1;32m     31\u001b[0m         \u001b[0;32mfor\u001b[0m \u001b[0;34m(\u001b[0m\u001b[0mlayer_ix\u001b[0m\u001b[0;34m,\u001b[0m \u001b[0mlayer_size\u001b[0m\u001b[0;34m)\u001b[0m \u001b[0;32min\u001b[0m \u001b[0menumerate\u001b[0m\u001b[0;34m(\u001b[0m\u001b[0mself\u001b[0m\u001b[0;34m.\u001b[0m\u001b[0mlayer_sizes\u001b[0m\u001b[0;34m)\u001b[0m\u001b[0;34m:\u001b[0m\u001b[0;34m\u001b[0m\u001b[0;34m\u001b[0m\u001b[0m\n\u001b[1;32m     32\u001b[0m             \u001b[0mresidual\u001b[0m \u001b[0;34m=\u001b[0m \u001b[0mx\u001b[0m\u001b[0;34m\u001b[0m\u001b[0;34m\u001b[0m\u001b[0m\n\u001b[0;32m---> 33\u001b[0;31m             \u001b[0mx\u001b[0m \u001b[0;34m=\u001b[0m \u001b[0mnn\u001b[0m\u001b[0;34m.\u001b[0m\u001b[0mDense\u001b[0m\u001b[0;34m(\u001b[0m\u001b[0mlayer_size\u001b[0m\u001b[0;34m)\u001b[0m\u001b[0;34m(\u001b[0m\u001b[0mx\u001b[0m\u001b[0;34m)\u001b[0m\u001b[0;34m\u001b[0m\u001b[0;34m\u001b[0m\u001b[0m\n\u001b[0m\u001b[1;32m     34\u001b[0m             \u001b[0;32mif\u001b[0m \u001b[0mlayer_ix\u001b[0m \u001b[0;34m==\u001b[0m \u001b[0mn_layers\u001b[0m \u001b[0;34m-\u001b[0m \u001b[0;36m1\u001b[0m\u001b[0;34m:\u001b[0m\u001b[0;34m\u001b[0m\u001b[0;34m\u001b[0m\u001b[0m\n\u001b[1;32m     35\u001b[0m                 \u001b[0mdropout_rate\u001b[0m \u001b[0;34m=\u001b[0m \u001b[0;36m0.2\u001b[0m\u001b[0;34m\u001b[0m\u001b[0;34m\u001b[0m\u001b[0m\n",
      "\u001b[0;32m~/miniconda3/envs/jax/lib/python3.9/site-packages/flax/linen/module.py\u001b[0m in \u001b[0;36mwrapped_module_method\u001b[0;34m(*args, **kwargs)\u001b[0m\n\u001b[1;32m    273\u001b[0m     \u001b[0m_context\u001b[0m\u001b[0;34m.\u001b[0m\u001b[0mmodule_stack\u001b[0m\u001b[0;34m.\u001b[0m\u001b[0mappend\u001b[0m\u001b[0;34m(\u001b[0m\u001b[0mself\u001b[0m\u001b[0;34m)\u001b[0m\u001b[0;34m\u001b[0m\u001b[0;34m\u001b[0m\u001b[0m\n\u001b[1;32m    274\u001b[0m     \u001b[0;32mtry\u001b[0m\u001b[0;34m:\u001b[0m\u001b[0;34m\u001b[0m\u001b[0;34m\u001b[0m\u001b[0m\n\u001b[0;32m--> 275\u001b[0;31m       \u001b[0my\u001b[0m \u001b[0;34m=\u001b[0m \u001b[0mfun\u001b[0m\u001b[0;34m(\u001b[0m\u001b[0mself\u001b[0m\u001b[0;34m,\u001b[0m \u001b[0;34m*\u001b[0m\u001b[0margs\u001b[0m\u001b[0;34m,\u001b[0m \u001b[0;34m**\u001b[0m\u001b[0mkwargs\u001b[0m\u001b[0;34m)\u001b[0m\u001b[0;34m\u001b[0m\u001b[0;34m\u001b[0m\u001b[0m\n\u001b[0m\u001b[1;32m    276\u001b[0m       \u001b[0;32mif\u001b[0m \u001b[0m_context\u001b[0m\u001b[0;34m.\u001b[0m\u001b[0mcapture_stack\u001b[0m\u001b[0;34m:\u001b[0m\u001b[0;34m\u001b[0m\u001b[0;34m\u001b[0m\u001b[0m\n\u001b[1;32m    277\u001b[0m         \u001b[0mfilter_fn\u001b[0m \u001b[0;34m=\u001b[0m \u001b[0m_context\u001b[0m\u001b[0;34m.\u001b[0m\u001b[0mcapture_stack\u001b[0m\u001b[0;34m[\u001b[0m\u001b[0;34m-\u001b[0m\u001b[0;36m1\u001b[0m\u001b[0;34m]\u001b[0m\u001b[0;34m\u001b[0m\u001b[0;34m\u001b[0m\u001b[0m\n",
      "\u001b[0;32m~/miniconda3/envs/jax/lib/python3.9/site-packages/flax/linen/linear.py\u001b[0m in \u001b[0;36m__call__\u001b[0;34m(self, inputs)\u001b[0m\n\u001b[1;32m    169\u001b[0m     \"\"\"\n\u001b[1;32m    170\u001b[0m     \u001b[0minputs\u001b[0m \u001b[0;34m=\u001b[0m \u001b[0mjnp\u001b[0m\u001b[0;34m.\u001b[0m\u001b[0masarray\u001b[0m\u001b[0;34m(\u001b[0m\u001b[0minputs\u001b[0m\u001b[0;34m,\u001b[0m \u001b[0mself\u001b[0m\u001b[0;34m.\u001b[0m\u001b[0mdtype\u001b[0m\u001b[0;34m)\u001b[0m\u001b[0;34m\u001b[0m\u001b[0;34m\u001b[0m\u001b[0m\n\u001b[0;32m--> 171\u001b[0;31m     kernel = self.param('kernel',\n\u001b[0m\u001b[1;32m    172\u001b[0m                         \u001b[0mself\u001b[0m\u001b[0;34m.\u001b[0m\u001b[0mkernel_init\u001b[0m\u001b[0;34m,\u001b[0m\u001b[0;34m\u001b[0m\u001b[0;34m\u001b[0m\u001b[0m\n\u001b[1;32m    173\u001b[0m                         (inputs.shape[-1], self.features))\n",
      "\u001b[0;32m~/miniconda3/envs/jax/lib/python3.9/site-packages/flax/linen/module.py\u001b[0m in \u001b[0;36mparam\u001b[0;34m(self, name, init_fn, *init_args)\u001b[0m\n\u001b[1;32m    783\u001b[0m     \u001b[0;32mif\u001b[0m \u001b[0mself\u001b[0m\u001b[0;34m.\u001b[0m\u001b[0m_name_taken\u001b[0m\u001b[0;34m(\u001b[0m\u001b[0mname\u001b[0m\u001b[0;34m)\u001b[0m\u001b[0;34m:\u001b[0m\u001b[0;34m\u001b[0m\u001b[0;34m\u001b[0m\u001b[0m\n\u001b[1;32m    784\u001b[0m       \u001b[0;32mraise\u001b[0m \u001b[0merrors\u001b[0m\u001b[0;34m.\u001b[0m\u001b[0mNameInUseError\u001b[0m\u001b[0;34m(\u001b[0m\u001b[0;34m'param'\u001b[0m\u001b[0;34m,\u001b[0m \u001b[0mname\u001b[0m\u001b[0;34m,\u001b[0m \u001b[0mself\u001b[0m\u001b[0;34m.\u001b[0m\u001b[0m__class__\u001b[0m\u001b[0;34m.\u001b[0m\u001b[0m__name__\u001b[0m\u001b[0;34m)\u001b[0m\u001b[0;34m\u001b[0m\u001b[0;34m\u001b[0m\u001b[0m\n\u001b[0;32m--> 785\u001b[0;31m     \u001b[0mv\u001b[0m \u001b[0;34m=\u001b[0m \u001b[0mself\u001b[0m\u001b[0;34m.\u001b[0m\u001b[0mscope\u001b[0m\u001b[0;34m.\u001b[0m\u001b[0mparam\u001b[0m\u001b[0;34m(\u001b[0m\u001b[0mname\u001b[0m\u001b[0;34m,\u001b[0m \u001b[0minit_fn\u001b[0m\u001b[0;34m,\u001b[0m \u001b[0;34m*\u001b[0m\u001b[0minit_args\u001b[0m\u001b[0;34m)\u001b[0m\u001b[0;34m\u001b[0m\u001b[0;34m\u001b[0m\u001b[0m\n\u001b[0m\u001b[1;32m    786\u001b[0m     \u001b[0mself\u001b[0m\u001b[0;34m.\u001b[0m\u001b[0m_state\u001b[0m\u001b[0;34m.\u001b[0m\u001b[0mchildren\u001b[0m\u001b[0;34m[\u001b[0m\u001b[0mname\u001b[0m\u001b[0;34m]\u001b[0m \u001b[0;34m=\u001b[0m \u001b[0;34m'params'\u001b[0m\u001b[0;34m\u001b[0m\u001b[0;34m\u001b[0m\u001b[0m\n\u001b[1;32m    787\u001b[0m     \u001b[0;32mreturn\u001b[0m \u001b[0mv\u001b[0m\u001b[0;34m\u001b[0m\u001b[0;34m\u001b[0m\u001b[0m\n",
      "\u001b[0;32m~/miniconda3/envs/jax/lib/python3.9/site-packages/flax/core/scope.py\u001b[0m in \u001b[0;36mparam\u001b[0;34m(self, name, init_fn, *init_args)\u001b[0m\n\u001b[1;32m    617\u001b[0m         \u001b[0;31m# for inference to a half float type for example.\u001b[0m\u001b[0;34m\u001b[0m\u001b[0;34m\u001b[0m\u001b[0;34m\u001b[0m\u001b[0m\n\u001b[1;32m    618\u001b[0m         \u001b[0;32mif\u001b[0m \u001b[0mjnp\u001b[0m\u001b[0;34m.\u001b[0m\u001b[0mshape\u001b[0m\u001b[0;34m(\u001b[0m\u001b[0mval\u001b[0m\u001b[0;34m)\u001b[0m \u001b[0;34m!=\u001b[0m \u001b[0mjnp\u001b[0m\u001b[0;34m.\u001b[0m\u001b[0mshape\u001b[0m\u001b[0;34m(\u001b[0m\u001b[0mabs_val\u001b[0m\u001b[0;34m)\u001b[0m\u001b[0;34m:\u001b[0m\u001b[0;34m\u001b[0m\u001b[0;34m\u001b[0m\u001b[0m\n\u001b[0;32m--> 619\u001b[0;31m           raise errors.ScopeParamShapeError(name, self.path_text, \n\u001b[0m\u001b[1;32m    620\u001b[0m               jnp.shape(val), jnp.shape(abs_val))\n\u001b[1;32m    621\u001b[0m     \u001b[0;32melse\u001b[0m\u001b[0;34m:\u001b[0m\u001b[0;34m\u001b[0m\u001b[0;34m\u001b[0m\u001b[0m\n",
      "\u001b[0;31mScopeParamShapeError\u001b[0m: Inconsistent shapes between value and initializer for parameter \"kernel\" in \"/Dense_1\": (10, 10), (10, 1). (https://flax.readthedocs.io/en/latest/flax.errors.html#flax.errors.ScopeParamShapeError)"
     ]
    }
   ],
   "source": [
    "void_resnet.apply(trained_params, test_input, train=False)"
   ]
  }
 ],
 "metadata": {
  "kernelspec": {
   "display_name": "Python 3",
   "language": "python",
   "name": "python3"
  },
  "language_info": {
   "codemirror_mode": {
    "name": "ipython",
    "version": 3
   },
   "file_extension": ".py",
   "mimetype": "text/x-python",
   "name": "python",
   "nbconvert_exporter": "python",
   "pygments_lexer": "ipython3",
   "version": "3.9.5"
  }
 },
 "nbformat": 4,
 "nbformat_minor": 5
}
