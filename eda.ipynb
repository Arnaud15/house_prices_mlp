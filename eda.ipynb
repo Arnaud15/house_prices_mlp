{
 "cells": [
  {
   "cell_type": "markdown",
   "id": "eaa2e7c0-6735-4d2d-bfcf-6dfdfb5296ce",
   "metadata": {},
   "source": [
    "#### Imports"
   ]
  },
  {
   "cell_type": "code",
   "execution_count": 28,
   "id": "4d76408d-c222-4038-9e63-f3bb03725c70",
   "metadata": {},
   "outputs": [],
   "source": [
    "import numpy as np\n",
    "import matplotlib.pyplot as plt\n",
    "import pandas as pd\n",
    "np.set_printoptions(3)"
   ]
  },
  {
   "cell_type": "code",
   "execution_count": 2,
   "id": "ae0238c6-d534-4cf0-97e3-ab495e772560",
   "metadata": {},
   "outputs": [],
   "source": [
    "FILE_PATH = \"train.csv\""
   ]
  },
  {
   "cell_type": "code",
   "execution_count": 3,
   "id": "a7cced8f-d660-4e76-9f59-4c43a00ed7eb",
   "metadata": {},
   "outputs": [],
   "source": [
    "data = pd.read_csv(FILE_PATH)"
   ]
  },
  {
   "cell_type": "code",
   "execution_count": 4,
   "id": "7184053c-13f6-47d4-9f76-063a253d57f6",
   "metadata": {},
   "outputs": [
    {
     "data": {
      "text/plain": [
       "Index(['date_time', 'deg_C', 'relative_humidity', 'absolute_humidity',\n",
       "       'sensor_1', 'sensor_2', 'sensor_3', 'sensor_4', 'sensor_5',\n",
       "       'target_carbon_monoxide', 'target_benzene', 'target_nitrogen_oxides'],\n",
       "      dtype='object')"
      ]
     },
     "execution_count": 4,
     "metadata": {},
     "output_type": "execute_result"
    }
   ],
   "source": [
    "data.columns"
   ]
  },
  {
   "cell_type": "code",
   "execution_count": 5,
   "id": "d6e42725-19e2-483d-8d63-a58a1f5b3035",
   "metadata": {},
   "outputs": [
    {
     "data": {
      "text/plain": [
       "date_time                  object\n",
       "deg_C                     float64\n",
       "relative_humidity         float64\n",
       "absolute_humidity         float64\n",
       "sensor_1                  float64\n",
       "sensor_2                  float64\n",
       "sensor_3                  float64\n",
       "sensor_4                  float64\n",
       "sensor_5                  float64\n",
       "target_carbon_monoxide    float64\n",
       "target_benzene            float64\n",
       "target_nitrogen_oxides    float64\n",
       "dtype: object"
      ]
     },
     "execution_count": 5,
     "metadata": {},
     "output_type": "execute_result"
    }
   ],
   "source": [
    "data.dtypes"
   ]
  },
  {
   "cell_type": "code",
   "execution_count": 6,
   "id": "d66217c3-29f4-41cb-bf7b-69353ea4d023",
   "metadata": {},
   "outputs": [
    {
     "data": {
      "text/plain": [
       "<AxesSubplot:>"
      ]
     },
     "execution_count": 6,
     "metadata": {},
     "output_type": "execute_result"
    },
    {
     "data": {
      "image/png": "[encoded data removed]",
      "text/plain": [
       "<Figure size 432x288 with 1 Axes>"
      ]
     },
     "metadata": {
      "needs_background": "light"
     },
     "output_type": "display_data"
    }
   ],
   "source": [
    "data.target_carbon_monoxide.hist()"
   ]
  },
  {
   "cell_type": "code",
   "execution_count": 7,
   "id": "0b159f9f-9084-462d-a882-880eb5e44c27",
   "metadata": {},
   "outputs": [
    {
     "data": {
      "text/plain": [
       "<AxesSubplot:>"
      ]
     },
     "execution_count": 7,
     "metadata": {},
     "output_type": "execute_result"
    },
    {
     "data": {
      "image/png": "[encoded data removed]",
      "text/plain": [
       "<Figure size 432x288 with 1 Axes>"
      ]
     },
     "metadata": {
      "needs_background": "light"
     },
     "output_type": "display_data"
    }
   ],
   "source": [
    "data.target_benzene.hist()"
   ]
  },
  {
   "cell_type": "code",
   "execution_count": 8,
   "id": "5d1dffe6-a72c-4301-8846-9b15f461fcaa",
   "metadata": {},
   "outputs": [
    {
     "data": {
      "text/plain": [
       "<AxesSubplot:>"
      ]
     },
     "execution_count": 8,
     "metadata": {},
     "output_type": "execute_result"
    },
    {
     "data": {
      "image/png": "[encoded data removed]",
      "text/plain": [
       "<Figure size 432x288 with 1 Axes>"
      ]
     },
     "metadata": {
      "needs_background": "light"
     },
     "output_type": "display_data"
    }
   ],
   "source": [
    "data.target_nitrogen_oxides.hist()"
   ]
  },
  {
   "cell_type": "markdown",
   "id": "5e8dd092-dcf9-4fe2-a9e3-d7906866f605",
   "metadata": {},
   "source": [
    "## Roadmap\n",
    "- [ ] look at each numerical column and normalize it\n",
    "- [ ] train a simple MLP with poisson loss in flax\n",
    "- [ ] submit"
   ]
  },
  {
   "cell_type": "code",
   "execution_count": 9,
   "id": "0dab94e4-c2e7-424d-a9a3-98b699f118b4",
   "metadata": {},
   "outputs": [],
   "source": [
    "X = data.iloc[:, 1:-3].values\n",
    "Y = data.iloc[:, -3:].values"
   ]
  },
  {
   "cell_type": "code",
   "execution_count": 10,
   "id": "3f568b11-5e57-4886-9e50-ce38ffb98a55",
   "metadata": {},
   "outputs": [
    {
     "data": {
      "text/plain": [
       "((7111, 8), (7111, 3), 7111)"
      ]
     },
     "execution_count": 10,
     "metadata": {},
     "output_type": "execute_result"
    }
   ],
   "source": [
    "n = X.shape[0]\n",
    "X.shape, Y.shape, n"
   ]
  },
  {
   "cell_type": "code",
   "execution_count": 11,
   "id": "4998b738-9da6-4e59-b68a-5c538af0ebeb",
   "metadata": {},
   "outputs": [],
   "source": [
    "shuffle_seed = np.random.seed(15)\n",
    "index_train, index_val = np.split(np.random.permutation(n), [int(n * 0.8)])"
   ]
  },
  {
   "cell_type": "code",
   "execution_count": 12,
   "id": "68fac48a-81bb-480d-a623-bfe31677d43f",
   "metadata": {},
   "outputs": [],
   "source": [
    "X_train, Y_train = X[index_train], Y[index_train]"
   ]
  },
  {
   "cell_type": "code",
   "execution_count": 13,
   "id": "8e6c9a59-9aa3-42d5-8445-376270b8e74c",
   "metadata": {},
   "outputs": [],
   "source": [
    "means, stds = X_train.mean(0, keepdims=True), X_train.std(0, keepdims=True)\n",
    "assert stds.min() > 0.0"
   ]
  },
  {
   "cell_type": "code",
   "execution_count": 14,
   "id": "e00f0b39-f261-40eb-ac2d-3561f4ba0fa0",
   "metadata": {},
   "outputs": [],
   "source": [
    "X_train = (X_train - means) / stds"
   ]
  },
  {
   "cell_type": "markdown",
   "id": "c4bee113-f110-4503-b490-38e28588df60",
   "metadata": {},
   "source": [
    "# Jax"
   ]
  },
  {
   "cell_type": "code",
   "execution_count": 15,
   "id": "e9e74c3e-0e98-4b4c-949f-0699a9f9b87c",
   "metadata": {},
   "outputs": [],
   "source": [
    "import jax\n",
    "import jax.numpy as jnp\n",
    "import jax.random as random"
   ]
  },
  {
   "cell_type": "code",
   "execution_count": 16,
   "id": "18dee8e2-2359-4fe4-80a1-a1508c19fb8b",
   "metadata": {},
   "outputs": [],
   "source": [
    "import flax.linen as nn\n",
    "from typing import Sequence"
   ]
  },
  {
   "cell_type": "code",
   "execution_count": 17,
   "id": "0019d4ca-c77f-4c65-99e9-6ec09fc4fed3",
   "metadata": {},
   "outputs": [],
   "source": [
    "import optax"
   ]
  },
  {
   "cell_type": "code",
   "execution_count": 18,
   "id": "ef9e664f-ffd9-4433-bf69-d49986652b59",
   "metadata": {},
   "outputs": [],
   "source": [
    "from jax.tree_util import tree_map"
   ]
  },
  {
   "cell_type": "code",
   "execution_count": 19,
   "id": "e75c8d78-a042-46a2-bc29-7df700d9caca",
   "metadata": {},
   "outputs": [],
   "source": [
    "from jax.tree_util import tree_map"
   ]
  },
  {
   "cell_type": "code",
   "execution_count": 20,
   "id": "4f6dffbf-0cb4-4b0a-8cfc-dafbbced8860",
   "metadata": {},
   "outputs": [],
   "source": [
    "class MLP(nn.Module):\n",
    "    layer_sizes: Sequence[int]\n",
    "    \n",
    "    @nn.compact\n",
    "    def __call__(self, x):\n",
    "        \n",
    "        for layer_ix, layer_size in enumerate(self.layer_sizes):\n",
    "            x = nn.Dense(layer_size)(x)\n",
    "            if layer_ix != len(self.layer_sizes) - 1:\n",
    "                x = nn.gelu(x)\n",
    "        \n",
    "        return x\n",
    "    "
   ]
  },
  {
   "cell_type": "code",
   "execution_count": 30,
   "id": "85dd5d5d-dd6f-47c5-b2b2-61234c6dc159",
   "metadata": {},
   "outputs": [],
   "source": [
    "p, m = X_train.shape[1], Y_train.shape[1]\n",
    "num_h_layers = 0\n",
    "h = 16  # hidden layer size\n",
    "lr = 1e-3  # learning rate\n",
    "num_epochs = 1\n",
    "batch_size = 32"
   ]
  },
  {
   "cell_type": "code",
   "execution_count": 31,
   "id": "2974f746-e8d4-4f64-9575-2ee79e5ba26b",
   "metadata": {},
   "outputs": [],
   "source": [
    "def poisson_loss(y, predicted):\n",
    "    \"\"\"\n",
    "    Poisson regression loss, parameterized so that `predicted` can take any scalar value (can be negative).\n",
    "    \"\"\"\n",
    "    return - y * predicted + jnp.exp(predicted)\n",
    "\n",
    "def rmse(y, predicted):\n",
    "    return jnp.sqrt((y - jnp.exp(predicted)) ** 2)\n",
    "\n",
    "jax_poisson = jax.vmap(jax.jit(poisson_loss), in_axes=0)\n",
    "jax_rmse = jax.vmap(jax.jit(rmse), in_axes=0)"
   ]
  },
  {
   "cell_type": "code",
   "execution_count": 35,
   "id": "f4daebce-efd6-4234-920c-9f8d3ef2a211",
   "metadata": {},
   "outputs": [],
   "source": [
    "def train_step(params, opt_state, x, y, model, optimizer):\n",
    "    def loss_fn(params):\n",
    "        predicted = model.apply(params, x)\n",
    "        return jnp.mean(jnp.mean(jax_rmse(y, predicted), 0))\n",
    "    loss_step, grad_step = jax.value_and_grad(loss_fn)(params)\n",
    "    params_updates, opt_state = optimizer.update(grad_step, opt_state)\n",
    "    params = optax.apply_updates(params, params_updates)\n",
    "    rmse_step = jnp.mean(jnp.mean(jax_rmse(y, model.apply(params, x)), 0))\n",
    "    return params, opt_state, loss_step, rmse_step"
   ]
  },
  {
   "cell_type": "code",
   "execution_count": 36,
   "id": "ef7f9295-0034-4f4d-a0f6-e82306aa8151",
   "metadata": {},
   "outputs": [],
   "source": [
    "import tensorflow as tf\n",
    "import tensorflow_datasets as tfds\n",
    "def get_dataset(x_data, y_data, batch_size):\n",
    "    data = tf.data.Dataset.from_tensor_slices((x_data, y_data))\n",
    "    data = data.shuffle(buffer_size=1000)\n",
    "    data = data.batch(batch_size)\n",
    "    return tfds.as_numpy(data)"
   ]
  },
  {
   "cell_type": "code",
   "execution_count": 43,
   "id": "8a9043d6-91f4-4f57-9736-67dab19392be",
   "metadata": {},
   "outputs": [],
   "source": [
    "\n",
    "# mlp = MLP([h for _ in range(num_h_layers)] + [m])\n",
    "mlp = MLP([h for _ in range(num_h_layers)] + [p])\n",
    "key = random.PRNGKey(1515)\n",
    "\n",
    "key, init_key = random.split(key)\n",
    "dummy_input = random.normal(key, shape=(32, p))\n",
    "key, init_key = random.split(key)\n",
    "params = mlp.init(init_key, dummy_input)\n",
    "\n",
    "optimizer = optax.adam(lr)\n",
    "opt_state = optimizer.init(params)\n"
   ]
  },
  {
   "cell_type": "code",
   "execution_count": 44,
   "id": "bfb3cb26-4074-43a9-915c-421f84d861e2",
   "metadata": {},
   "outputs": [
    {
     "name": "stdout",
     "output_type": "stream",
     "text": [
      "Step 5, RMSE: 2.066, Poisson Loss: 2.071\n",
      "Step 10, RMSE: 1.938, Poisson Loss: 1.943\n",
      "Step 15, RMSE: 2.029, Poisson Loss: 2.034\n",
      "Step 20, RMSE: 2.037, Poisson Loss: 2.042\n",
      "Step 25, RMSE: 1.915, Poisson Loss: 1.920\n",
      "Step 30, RMSE: 2.641, Poisson Loss: 2.648\n",
      "Step 35, RMSE: 2.116, Poisson Loss: 2.120\n",
      "Step 40, RMSE: 2.018, Poisson Loss: 2.022\n",
      "Step 45, RMSE: 2.129, Poisson Loss: 2.134\n",
      "Step 50, RMSE: 1.929, Poisson Loss: 1.933\n",
      "Step 55, RMSE: 1.771, Poisson Loss: 1.774\n",
      "Step 60, RMSE: 1.752, Poisson Loss: 1.755\n",
      "Step 65, RMSE: 1.852, Poisson Loss: 1.855\n",
      "Step 70, RMSE: 1.906, Poisson Loss: 1.909\n",
      "Step 75, RMSE: 1.736, Poisson Loss: 1.739\n",
      "Step 80, RMSE: 2.082, Poisson Loss: 2.086\n",
      "Step 85, RMSE: 2.068, Poisson Loss: 2.071\n",
      "Step 90, RMSE: 1.817, Poisson Loss: 1.820\n",
      "Step 95, RMSE: 1.949, Poisson Loss: 1.953\n",
      "Step 100, RMSE: 1.804, Poisson Loss: 1.807\n",
      "Step 105, RMSE: 1.674, Poisson Loss: 1.677\n",
      "Step 110, RMSE: 1.804, Poisson Loss: 1.806\n",
      "Step 115, RMSE: 1.807, Poisson Loss: 1.810\n",
      "Step 120, RMSE: 1.540, Poisson Loss: 1.542\n",
      "Step 125, RMSE: 1.711, Poisson Loss: 1.714\n",
      "Step 130, RMSE: 1.582, Poisson Loss: 1.584\n",
      "Step 135, RMSE: 1.845, Poisson Loss: 1.848\n",
      "Step 140, RMSE: 1.588, Poisson Loss: 1.590\n",
      "Step 145, RMSE: 1.591, Poisson Loss: 1.593\n",
      "Step 150, RMSE: 1.695, Poisson Loss: 1.697\n",
      "Step 155, RMSE: 1.651, Poisson Loss: 1.653\n",
      "Step 160, RMSE: 1.650, Poisson Loss: 1.652\n",
      "Step 165, RMSE: 1.811, Poisson Loss: 1.813\n",
      "Step 170, RMSE: 1.462, Poisson Loss: 1.463\n",
      "Step 175, RMSE: 1.509, Poisson Loss: 1.510\n"
     ]
    }
   ],
   "source": [
    "losses = []\n",
    "for epoch_ix in range(num_epochs):\n",
    "    step = 0\n",
    "    for (x_train, y_train) in get_dataset(X_train, Y_train, batch_size=batch_size):\n",
    "        fake_y = x_train * 2.0\n",
    "        params, opt_state, loss_step, rmse_step = train_step(params, opt_state, x_train, fake_y, mlp, optimizer)\n",
    "        losses.append(loss_step)\n",
    "        step += 1\n",
    "        if step % 5 == 0:\n",
    "            print(f\"Step {step}, RMSE: {rmse_step:.3f}, Poisson Loss: {loss_step:.3f}\")"
   ]
  },
  {
   "cell_type": "code",
   "execution_count": 45,
   "id": "39cec5ed-5a7f-4811-a6c3-5b99ca4beba2",
   "metadata": {},
   "outputs": [
    {
     "data": {
      "text/plain": [
       "[<matplotlib.lines.Line2D at 0x7f74e8206f70>]"
      ]
     },
     "execution_count": 45,
     "metadata": {},
     "output_type": "execute_result"
    },
    {
     "data": {
      "image/png": "[encoded data removed]",
      "text/plain": [
       "<Figure size 432x288 with 1 Axes>"
      ]
     },
     "metadata": {
      "needs_background": "light"
     },
     "output_type": "display_data"
    }
   ],
   "source": [
    "plt.plot(losses)"
   ]
  },
  {
   "cell_type": "code",
   "execution_count": null,
   "id": "717988fb-5507-47af-99ee-12260ffa1679",
   "metadata": {},
   "outputs": [],
   "source": []
  },
  {
   "cell_type": "code",
   "execution_count": null,
   "id": "de5244be-4189-487e-9a06-da16faac0485",
   "metadata": {},
   "outputs": [],
   "source": []
  },
  {
   "cell_type": "code",
   "execution_count": null,
   "id": "fcde9c6e-3952-45da-9aae-0b4f9e57498d",
   "metadata": {},
   "outputs": [],
   "source": []
  },
  {
   "cell_type": "code",
   "execution_count": null,
   "id": "139ef71f-c353-4c67-aab7-641fb9027ec7",
   "metadata": {},
   "outputs": [],
   "source": []
  },
  {
   "cell_type": "code",
   "execution_count": null,
   "id": "9ea0a86f-3ae0-4a02-bd42-f5c5129b2ca8",
   "metadata": {},
   "outputs": [],
   "source": []
  },
  {
   "cell_type": "code",
   "execution_count": null,
   "id": "b002d001-fec2-4bb3-abd9-f77a5546e8b5",
   "metadata": {},
   "outputs": [],
   "source": []
  },
  {
   "cell_type": "code",
   "execution_count": null,
   "id": "b1f7dafd-822e-43b8-8475-7bbed5090cbc",
   "metadata": {},
   "outputs": [],
   "source": []
  },
  {
   "cell_type": "code",
   "execution_count": null,
   "id": "fce5d5f2-2dd8-4d4f-9758-bf7e9652fa1f",
   "metadata": {},
   "outputs": [],
   "source": []
  },
  {
   "cell_type": "code",
   "execution_count": null,
   "id": "eb2f9225-c972-49d9-a0c4-1e69bc6b61b8",
   "metadata": {},
   "outputs": [],
   "source": []
  },
  {
   "cell_type": "code",
   "execution_count": null,
   "id": "27b50940-7df3-4077-8649-6e60c654e990",
   "metadata": {},
   "outputs": [],
   "source": []
  }
 ],
 "metadata": {
  "kernelspec": {
   "display_name": "Python 3",
   "language": "python",
   "name": "python3"
  },
  "language_info": {
   "codemirror_mode": {
    "name": "ipython",
    "version": 3
   },
   "file_extension": ".py",
   "mimetype": "text/x-python",
   "name": "python",
   "nbconvert_exporter": "python",
   "pygments_lexer": "ipython3",
   "version": "3.9.5"
  }
 },
 "nbformat": 4,
 "nbformat_minor": 5
}
