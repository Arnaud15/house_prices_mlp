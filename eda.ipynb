{
 "cells": [
  {
   "cell_type": "markdown",
   "id": "eaa2e7c0-6735-4d2d-bfcf-6dfdfb5296ce",
   "metadata": {},
   "source": [
    "#### Imports"
   ]
  },
  {
   "cell_type": "code",
   "execution_count": 1,
   "id": "4d76408d-c222-4038-9e63-f3bb03725c70",
   "metadata": {},
   "outputs": [],
   "source": [
    "from collections import defaultdict\n",
    "\n",
    "import matplotlib.pyplot as plt\n",
    "import numpy as np\n",
    "import pandas as pd\n",
    "\n",
    "np.set_printoptions(3)"
   ]
  },
  {
   "cell_type": "code",
   "execution_count": 2,
   "id": "ae0238c6-d534-4cf0-97e3-ab495e772560",
   "metadata": {},
   "outputs": [],
   "source": [
    "FILE_PATH = \"data/train.csv\""
   ]
  },
  {
   "cell_type": "markdown",
   "id": "e5a5feef-8643-4adf-8654-ae8161eddded",
   "metadata": {},
   "source": [
    "### Lightweight Data Wrangling"
   ]
  },
  {
   "cell_type": "code",
   "execution_count": 3,
   "id": "a7cced8f-d660-4e76-9f59-4c43a00ed7eb",
   "metadata": {},
   "outputs": [],
   "source": [
    "data = pd.read_csv(FILE_PATH).iloc[:, 1:]  # removing the first Id column"
   ]
  },
  {
   "cell_type": "markdown",
   "id": "7de9a4fe-c651-4c08-91cb-a7dad7fe3544",
   "metadata": {},
   "source": [
    "### Dimensions"
   ]
  },
  {
   "cell_type": "code",
   "execution_count": 4,
   "id": "7184053c-13f6-47d4-9f76-063a253d57f6",
   "metadata": {},
   "outputs": [
    {
     "data": {
      "text/plain": [
       "(80, 1460)"
      ]
     },
     "execution_count": 4,
     "metadata": {},
     "output_type": "execute_result"
    }
   ],
   "source": [
    "len(data.columns), len(data)"
   ]
  },
  {
   "cell_type": "markdown",
   "id": "edd7a4c0-2247-4bae-96aa-81759283833f",
   "metadata": {},
   "source": [
    "### Response to predict"
   ]
  },
  {
   "cell_type": "code",
   "execution_count": 5,
   "id": "aae576f5-5f8f-4cb5-a733-8161c6b3d62d",
   "metadata": {},
   "outputs": [
    {
     "data": {
      "text/plain": [
       "(array([ 34900., 129975., 163000., 214000., 755000.]), 0)"
      ]
     },
     "execution_count": 5,
     "metadata": {},
     "output_type": "execute_result"
    },
    {
     "data": {
      "image/png": "[encoded data removed]",
      "text/plain": [
       "<Figure size 432x288 with 1 Axes>"
      ]
     },
     "metadata": {
      "needs_background": "light"
     },
     "output_type": "display_data"
    }
   ],
   "source": [
    "y_vec = data[\"SalePrice\"].values\n",
    "plt.hist(y_vec)\n",
    "plt.grid()\n",
    "np.quantile(y_vec, [0.0, 0.25, 0.5, 0.75, 1.0]), np.isnan(y_vec).sum()"
   ]
  },
  {
   "cell_type": "code",
   "execution_count": 6,
   "id": "3d6a4095-a513-4813-93a9-e350b31a27fc",
   "metadata": {},
   "outputs": [
    {
     "data": {
      "text/plain": [
       "12.105816833620844"
      ]
     },
     "execution_count": 6,
     "metadata": {},
     "output_type": "execute_result"
    },
    {
     "data": {
      "image/png": "[encoded data removed]",
      "text/plain": [
       "<Figure size 432x288 with 1 Axes>"
      ]
     },
     "metadata": {
      "needs_background": "light"
     },
     "output_type": "display_data"
    }
   ],
   "source": [
    "plt.hist(np.log(y_vec))\n",
    "plt.grid()\n",
    "np.log(y_vec.mean())"
   ]
  },
  {
   "cell_type": "code",
   "execution_count": 7,
   "id": "7b671d8a-1a0b-484a-acce-01a334f6e4a6",
   "metadata": {},
   "outputs": [
    {
     "name": "stdout",
     "output_type": "stream",
     "text": [
      "12.024050901109383\n"
     ]
    },
    {
     "data": {
      "image/png": "[encoded data removed]",
      "text/plain": [
       "<Figure size 432x288 with 1 Axes>"
      ]
     },
     "metadata": {
      "needs_background": "light"
     },
     "output_type": "display_data"
    }
   ],
   "source": [
    "log_y = np.log(y_vec)\n",
    "mean = log_y.mean()\n",
    "print(mean)\n",
    "std = log_y.std()\n",
    "samples = np.random.randn(len(data))\n",
    "synthetic = std * samples + mean\n",
    "plt.hist(synthetic)\n",
    "plt.grid()"
   ]
  },
  {
   "cell_type": "markdown",
   "id": "2f510904-6c08-4ad7-8ded-e6abf5681dae",
   "metadata": {},
   "source": [
    "- no pathological values for y\n",
    "- log transforming the response gives us a nicely normal distribution to predict"
   ]
  },
  {
   "cell_type": "markdown",
   "id": "883a1313-9fb5-4aad-812d-ec55abee9673",
   "metadata": {},
   "source": [
    "### Column types"
   ]
  },
  {
   "cell_type": "code",
   "execution_count": 8,
   "id": "d6e42725-19e2-483d-8d63-a58a1f5b3035",
   "metadata": {},
   "outputs": [
    {
     "data": {
      "text/plain": [
       "(37,\n",
       " ['MSSubClass',\n",
       "  'LotFrontage',\n",
       "  'LotArea',\n",
       "  'OverallQual',\n",
       "  'OverallCond',\n",
       "  'YearBuilt',\n",
       "  'YearRemodAdd',\n",
       "  'MasVnrArea',\n",
       "  'BsmtFinSF1',\n",
       "  'BsmtFinSF2',\n",
       "  'BsmtUnfSF',\n",
       "  'TotalBsmtSF',\n",
       "  '1stFlrSF',\n",
       "  '2ndFlrSF',\n",
       "  'LowQualFinSF',\n",
       "  'GrLivArea',\n",
       "  'BsmtFullBath',\n",
       "  'BsmtHalfBath',\n",
       "  'FullBath',\n",
       "  'HalfBath',\n",
       "  'BedroomAbvGr',\n",
       "  'KitchenAbvGr',\n",
       "  'TotRmsAbvGrd',\n",
       "  'Fireplaces',\n",
       "  'GarageYrBlt',\n",
       "  'GarageCars',\n",
       "  'GarageArea',\n",
       "  'WoodDeckSF',\n",
       "  'OpenPorchSF',\n",
       "  'EnclosedPorch',\n",
       "  '3SsnPorch',\n",
       "  'ScreenPorch',\n",
       "  'PoolArea',\n",
       "  'MiscVal',\n",
       "  'MoSold',\n",
       "  'YrSold',\n",
       "  'SalePrice'])"
      ]
     },
     "execution_count": 8,
     "metadata": {},
     "output_type": "execute_result"
    }
   ],
   "source": [
    "n_cols = len(data.columns)\n",
    "numerical_cols = [\n",
    "    col\n",
    "    for col in data.columns\n",
    "    if (\n",
    "        \"int64\" == data.loc[:, col].dtype\n",
    "        or \"float64\" == data.loc[:, col].dtype\n",
    "    )\n",
    "]\n",
    "len(numerical_cols), numerical_cols"
   ]
  },
  {
   "cell_type": "code",
   "execution_count": 9,
   "id": "d66217c3-29f4-41cb-bf7b-69353ea4d023",
   "metadata": {},
   "outputs": [
    {
     "data": {
      "text/plain": [
       "MSSubClass         0\n",
       "LotFrontage      259\n",
       "LotArea            0\n",
       "OverallQual        0\n",
       "OverallCond        0\n",
       "YearBuilt          0\n",
       "YearRemodAdd       0\n",
       "MasVnrArea         8\n",
       "BsmtFinSF1         0\n",
       "BsmtFinSF2         0\n",
       "BsmtUnfSF          0\n",
       "TotalBsmtSF        0\n",
       "1stFlrSF           0\n",
       "2ndFlrSF           0\n",
       "LowQualFinSF       0\n",
       "GrLivArea          0\n",
       "BsmtFullBath       0\n",
       "BsmtHalfBath       0\n",
       "FullBath           0\n",
       "HalfBath           0\n",
       "BedroomAbvGr       0\n",
       "KitchenAbvGr       0\n",
       "TotRmsAbvGrd       0\n",
       "Fireplaces         0\n",
       "GarageYrBlt       81\n",
       "GarageCars         0\n",
       "GarageArea         0\n",
       "WoodDeckSF         0\n",
       "OpenPorchSF        0\n",
       "EnclosedPorch      0\n",
       "3SsnPorch          0\n",
       "ScreenPorch        0\n",
       "PoolArea           0\n",
       "MiscVal            0\n",
       "MoSold             0\n",
       "YrSold             0\n",
       "SalePrice          0\n",
       "dtype: int64"
      ]
     },
     "execution_count": 9,
     "metadata": {},
     "output_type": "execute_result"
    }
   ],
   "source": [
    "data.loc[:, numerical_cols].isna().sum(0)"
   ]
  },
  {
   "cell_type": "code",
   "execution_count": null,
   "id": "6206a25e-1832-46d7-ab65-8a15ed5b37de",
   "metadata": {
    "scrolled": true
   },
   "outputs": [],
   "source": []
  },
  {
   "cell_type": "code",
   "execution_count": 10,
   "id": "a2209013-a947-4009-9168-ee90d75eea61",
   "metadata": {},
   "outputs": [
    {
     "name": "stdout",
     "output_type": "stream",
     "text": [
      "col name MSZoning\n",
      "num NaN 0\n",
      "['RL' 'RM' 'C (all)' 'FV' 'RH']\n",
      "***************\n",
      "col name Street\n",
      "num NaN 0\n",
      "['Pave' 'Grvl']\n",
      "adding\n",
      "***************\n",
      "col name Alley\n",
      "num NaN 1369\n",
      "['nan' 'Grvl' 'Pave']\n",
      "adding\n",
      "***************\n",
      "col name LotShape\n",
      "num NaN 0\n",
      "['Reg' 'IR1' 'IR2' 'IR3']\n",
      "adding\n",
      "***************\n",
      "col name LandContour\n",
      "num NaN 0\n",
      "['Lvl' 'Bnk' 'Low' 'HLS']\n",
      "adding\n",
      "***************\n",
      "col name Utilities\n",
      "num NaN 0\n",
      "['AllPub' 'NoSeWa']\n",
      "adding\n",
      "***************\n",
      "col name LotConfig\n",
      "num NaN 0\n",
      "['Inside' 'FR2' 'Corner' 'CulDSac' 'FR3']\n",
      "***************\n",
      "col name LandSlope\n",
      "num NaN 0\n",
      "['Gtl' 'Mod' 'Sev']\n",
      "adding\n",
      "***************\n",
      "col name Neighborhood\n",
      "num NaN 0\n",
      "['CollgCr' 'Veenker' 'Crawfor' 'NoRidge' 'Mitchel' 'Somerst' 'NWAmes'\n",
      " 'OldTown' 'BrkSide' 'Sawyer' 'NridgHt' 'NAmes' 'SawyerW' 'IDOTRR'\n",
      " 'MeadowV' 'Edwards' 'Timber' 'Gilbert' 'StoneBr' 'ClearCr' 'NPkVill'\n",
      " 'Blmngtn' 'BrDale' 'SWISU' 'Blueste']\n",
      "***************\n",
      "col name Condition1\n",
      "num NaN 0\n",
      "['Norm' 'Feedr' 'PosN' 'Artery' 'RRAe' 'RRNn' 'RRAn' 'PosA' 'RRNe']\n",
      "***************\n",
      "col name Condition2\n",
      "num NaN 0\n",
      "['Norm' 'Artery' 'RRNn' 'Feedr' 'PosN' 'PosA' 'RRAn' 'RRAe']\n",
      "***************\n",
      "col name BldgType\n",
      "num NaN 0\n",
      "['1Fam' '2fmCon' 'Duplex' 'TwnhsE' 'Twnhs']\n",
      "***************\n",
      "col name HouseStyle\n",
      "num NaN 0\n",
      "['2Story' '1Story' '1.5Fin' '1.5Unf' 'SFoyer' 'SLvl' '2.5Unf' '2.5Fin']\n",
      "***************\n",
      "col name RoofStyle\n",
      "num NaN 0\n",
      "['Gable' 'Hip' 'Gambrel' 'Mansard' 'Flat' 'Shed']\n",
      "***************\n",
      "col name RoofMatl\n",
      "num NaN 0\n",
      "['CompShg' 'WdShngl' 'Metal' 'WdShake' 'Membran' 'Tar&Grv' 'Roll'\n",
      " 'ClyTile']\n",
      "***************\n",
      "col name Exterior1st\n",
      "num NaN 0\n",
      "['VinylSd' 'MetalSd' 'Wd Sdng' 'HdBoard' 'BrkFace' 'WdShing' 'CemntBd'\n",
      " 'Plywood' 'AsbShng' 'Stucco' 'BrkComm' 'AsphShn' 'Stone' 'ImStucc'\n",
      " 'CBlock']\n",
      "***************\n",
      "col name Exterior2nd\n",
      "num NaN 0\n",
      "['VinylSd' 'MetalSd' 'Wd Shng' 'HdBoard' 'Plywood' 'Wd Sdng' 'CmentBd'\n",
      " 'BrkFace' 'Stucco' 'AsbShng' 'Brk Cmn' 'ImStucc' 'AsphShn' 'Stone'\n",
      " 'Other' 'CBlock']\n",
      "***************\n",
      "col name MasVnrType\n",
      "num NaN 8\n",
      "['BrkFace' 'None' 'Stone' 'BrkCmn' 'nan']\n",
      "***************\n",
      "col name ExterQual\n",
      "num NaN 0\n",
      "['Gd' 'TA' 'Ex' 'Fa']\n",
      "adding\n",
      "***************\n",
      "col name ExterCond\n",
      "num NaN 0\n",
      "['TA' 'Gd' 'Fa' 'Po' 'Ex']\n",
      "***************\n",
      "col name Foundation\n",
      "num NaN 0\n",
      "['PConc' 'CBlock' 'BrkTil' 'Wood' 'Slab' 'Stone']\n",
      "***************\n",
      "col name BsmtQual\n",
      "num NaN 37\n",
      "['Gd' 'TA' 'Ex' 'nan' 'Fa']\n",
      "***************\n",
      "col name BsmtCond\n",
      "num NaN 37\n",
      "['TA' 'Gd' 'nan' 'Fa' 'Po']\n",
      "***************\n",
      "col name BsmtExposure\n",
      "num NaN 38\n",
      "['No' 'Gd' 'Mn' 'Av' 'nan']\n",
      "***************\n",
      "col name BsmtFinType1\n",
      "num NaN 37\n",
      "['GLQ' 'ALQ' 'Unf' 'Rec' 'BLQ' 'nan' 'LwQ']\n",
      "***************\n",
      "col name BsmtFinType2\n",
      "num NaN 38\n",
      "['Unf' 'BLQ' 'nan' 'ALQ' 'Rec' 'LwQ' 'GLQ']\n",
      "***************\n",
      "col name Heating\n",
      "num NaN 0\n",
      "['GasA' 'GasW' 'Grav' 'Wall' 'OthW' 'Floor']\n",
      "***************\n",
      "col name HeatingQC\n",
      "num NaN 0\n",
      "['Ex' 'Gd' 'TA' 'Fa' 'Po']\n",
      "***************\n",
      "col name CentralAir\n",
      "num NaN 0\n",
      "['Y' 'N']\n",
      "adding\n",
      "***************\n",
      "col name Electrical\n",
      "num NaN 1\n",
      "['SBrkr' 'FuseF' 'FuseA' 'FuseP' 'Mix' 'nan']\n",
      "***************\n",
      "col name KitchenQual\n",
      "num NaN 0\n",
      "['Gd' 'TA' 'Ex' 'Fa']\n",
      "adding\n",
      "***************\n",
      "col name Functional\n",
      "num NaN 0\n",
      "['Typ' 'Min1' 'Maj1' 'Min2' 'Mod' 'Maj2' 'Sev']\n",
      "***************\n",
      "col name FireplaceQu\n",
      "num NaN 690\n",
      "['nan' 'TA' 'Gd' 'Fa' 'Ex' 'Po']\n",
      "***************\n",
      "col name GarageType\n",
      "num NaN 81\n",
      "['Attchd' 'Detchd' 'BuiltIn' 'CarPort' 'nan' 'Basment' '2Types']\n",
      "***************\n",
      "col name GarageFinish\n",
      "num NaN 81\n",
      "['RFn' 'Unf' 'Fin' 'nan']\n",
      "adding\n",
      "***************\n",
      "col name GarageQual\n",
      "num NaN 81\n",
      "['TA' 'Fa' 'Gd' 'nan' 'Ex' 'Po']\n",
      "***************\n",
      "col name GarageCond\n",
      "num NaN 81\n",
      "['TA' 'Fa' 'nan' 'Gd' 'Po' 'Ex']\n",
      "***************\n",
      "col name PavedDrive\n",
      "num NaN 0\n",
      "['Y' 'N' 'P']\n",
      "adding\n",
      "***************\n",
      "col name PoolQC\n",
      "num NaN 1453\n",
      "['nan' 'Ex' 'Fa' 'Gd']\n",
      "adding\n",
      "***************\n",
      "col name Fence\n",
      "num NaN 1179\n",
      "['nan' 'MnPrv' 'GdWo' 'GdPrv' 'MnWw']\n",
      "***************\n",
      "col name MiscFeature\n",
      "num NaN 1406\n",
      "['nan' 'Shed' 'Gar2' 'Othr' 'TenC']\n",
      "***************\n",
      "col name SaleType\n",
      "num NaN 0\n",
      "['WD' 'New' 'COD' 'ConLD' 'ConLI' 'CWD' 'ConLw' 'Con' 'Oth']\n",
      "***************\n",
      "col name SaleCondition\n",
      "num NaN 0\n",
      "['Normal' 'Abnorml' 'Partial' 'AdjLand' 'Alloca' 'Family']\n",
      "***************\n"
     ]
    }
   ],
   "source": [
    "transforms = [('MSSubClass', 'scale'), ('LotFrontage', 'isna'), ('LotArea', 'lognorm'), ('OverallQual', 'scale'), ('OverallCond', 'lognorm'), ('YearBuilt', 'scale'), ('YearRemodAdd', 'scale'), ('MasVnrArea', 'is0'), ('BsmtFinSF1', 'is0'), ('BsmtFinSF2', 'is0'), ('BsmtUnfSF', 'scale'), ('1stFlrSF', 'lognorm'), ('2ndFlrSF', 'is0'), ('GrLivArea', 'lognorm'), ('BsmtFullBath', 'scale'), ('FullBath', 'embed'), ('HalfBath', 'embed'), ('BedroomAbvGr', 'scale'), ('TotRmsAbvGrd', 'lognorm'), ('Fireplaces', 'scale'), ('GarageYrBlt', 'isna'), ('GarageCars', 'scale'), ('GarageArea', 'scale'), ('WoodDeckSF', 'is0'), ('OpenPorchSF', 'is0'), ('EnclosedPorch', 'is0'), ('3SsnPorch', 'is0'), ('PoolArea', 'is0'), ('MiscVal', 'is0'), ('MoSold', 'scale'), ('YrSold', 'embed')]\n",
    "\n",
    "for col in data.columns:\n",
    "    datacol = data[col]\n",
    "    if datacol.dtype == \"object\":\n",
    "        print(f\"col name {col}\")\n",
    "        print(f\"num NaN {datacol.isna().sum()}\")\n",
    "        unique_vals = datacol.astype(str).unique()\n",
    "        print(unique_vals)\n",
    "        if len(unique_vals) <= 4:\n",
    "            transforms.append((col, \"embed\"))\n",
    "            print(\"adding\")\n",
    "        print(\"*\" * 15)"
   ]
  },
  {
   "cell_type": "code",
   "execution_count": 11,
   "id": "d87728e2-d3f2-4868-b6ac-4484a3846980",
   "metadata": {},
   "outputs": [],
   "source": [
    "import json\n",
    "import os\n",
    "\n",
    "with open(os.path.join(\"data\", \"transforms\"), \"w\") as jfile:\n",
    "    json.dump(transforms, jfile)"
   ]
  }
 ],
 "metadata": {
  "kernelspec": {
   "display_name": "Python 3 (ipykernel)",
   "language": "python",
   "name": "python3"
  },
  "language_info": {
   "codemirror_mode": {
    "name": "ipython",
    "version": 3
   },
   "file_extension": ".py",
   "mimetype": "text/x-python",
   "name": "python",
   "nbconvert_exporter": "python",
   "pygments_lexer": "ipython3",
   "version": "3.8.10"
  }
 },
 "nbformat": 4,
 "nbformat_minor": 5
}
