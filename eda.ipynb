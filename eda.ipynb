{
 "cells": [
  {
   "cell_type": "markdown",
   "id": "eaa2e7c0-6735-4d2d-bfcf-6dfdfb5296ce",
   "metadata": {},
   "source": [
    "#### Imports"
   ]
  },
  {
   "cell_type": "code",
   "execution_count": 1,
   "id": "4d76408d-c222-4038-9e63-f3bb03725c70",
   "metadata": {},
   "outputs": [],
   "source": [
    "import numpy as np\n",
    "import matplotlib.pyplot as plt\n",
    "import pandas as pd\n",
    "from collections import defaultdict\n",
    "np.set_printoptions(3)"
   ]
  },
  {
   "cell_type": "code",
   "execution_count": 2,
   "id": "ae0238c6-d534-4cf0-97e3-ab495e772560",
   "metadata": {},
   "outputs": [],
   "source": [
    "FILE_PATH = \"data/train.csv\""
   ]
  },
  {
   "cell_type": "markdown",
   "id": "e5a5feef-8643-4adf-8654-ae8161eddded",
   "metadata": {},
   "source": [
    "### Lightweight Data Wrangling"
   ]
  },
  {
   "cell_type": "code",
   "execution_count": 3,
   "id": "a7cced8f-d660-4e76-9f59-4c43a00ed7eb",
   "metadata": {},
   "outputs": [],
   "source": [
    "data = pd.read_csv(FILE_PATH).iloc[:, 1:]  # removing the first Id column"
   ]
  },
  {
   "cell_type": "markdown",
   "id": "7de9a4fe-c651-4c08-91cb-a7dad7fe3544",
   "metadata": {},
   "source": [
    "### Dimensions"
   ]
  },
  {
   "cell_type": "code",
   "execution_count": 4,
   "id": "7184053c-13f6-47d4-9f76-063a253d57f6",
   "metadata": {},
   "outputs": [
    {
     "data": {
      "text/plain": [
       "(80, 1460)"
      ]
     },
     "execution_count": 4,
     "metadata": {},
     "output_type": "execute_result"
    }
   ],
   "source": [
    "len(data.columns), len(data)"
   ]
  },
  {
   "cell_type": "markdown",
   "id": "edd7a4c0-2247-4bae-96aa-81759283833f",
   "metadata": {},
   "source": [
    "### Response to predict"
   ]
  },
  {
   "cell_type": "code",
   "execution_count": 5,
   "id": "aae576f5-5f8f-4cb5-a733-8161c6b3d62d",
   "metadata": {},
   "outputs": [
    {
     "data": {
      "text/plain": [
       "(array([ 34900., 129975., 163000., 214000., 755000.]), 0)"
      ]
     },
     "execution_count": 5,
     "metadata": {},
     "output_type": "execute_result"
    },
    {
     "data": {
      "image/png": "[encoded data removed]",
      "text/plain": [
       "<Figure size 432x288 with 1 Axes>"
      ]
     },
     "metadata": {
      "needs_background": "light"
     },
     "output_type": "display_data"
    }
   ],
   "source": [
    "y_vec = data['SalePrice'].values\n",
    "plt.hist(y_vec)\n",
    "plt.grid()\n",
    "np.quantile(y_vec, [0.0, 0.25, 0.5, 0.75, 1.0]), np.isnan(y_vec).sum()"
   ]
  },
  {
   "cell_type": "code",
   "execution_count": 6,
   "id": "3d6a4095-a513-4813-93a9-e350b31a27fc",
   "metadata": {},
   "outputs": [
    {
     "data": {
      "text/plain": [
       "12.105816833620844"
      ]
     },
     "execution_count": 6,
     "metadata": {},
     "output_type": "execute_result"
    },
    {
     "data": {
      "image/png": "[encoded data removed]",
      "text/plain": [
       "<Figure size 432x288 with 1 Axes>"
      ]
     },
     "metadata": {
      "needs_background": "light"
     },
     "output_type": "display_data"
    }
   ],
   "source": [
    "plt.hist(np.log(y_vec))\n",
    "plt.grid()\n",
    "np.log(y_vec.mean())"
   ]
  },
  {
   "cell_type": "code",
   "execution_count": 7,
   "id": "7b671d8a-1a0b-484a-acce-01a334f6e4a6",
   "metadata": {},
   "outputs": [
    {
     "name": "stdout",
     "output_type": "stream",
     "text": [
      "12.024050901109383\n"
     ]
    },
    {
     "data": {
      "image/png": "[encoded data removed]",
      "text/plain": [
       "<Figure size 432x288 with 1 Axes>"
      ]
     },
     "metadata": {
      "needs_background": "light"
     },
     "output_type": "display_data"
    }
   ],
   "source": [
    "log_y = np.log(y_vec)\n",
    "mean = log_y.mean()\n",
    "print(mean)\n",
    "std = log_y.std()\n",
    "samples = np.random.randn(len(data))\n",
    "synthetic = std * samples + mean\n",
    "plt.hist(synthetic)\n",
    "plt.grid()"
   ]
  },
  {
   "cell_type": "markdown",
   "id": "2f510904-6c08-4ad7-8ded-e6abf5681dae",
   "metadata": {},
   "source": [
    "- no pathological values for y\n",
    "- log transforming the response gives us a nicely normal distribution to predict"
   ]
  },
  {
   "cell_type": "markdown",
   "id": "883a1313-9fb5-4aad-812d-ec55abee9673",
   "metadata": {},
   "source": [
    "### Column types"
   ]
  },
  {
   "cell_type": "code",
   "execution_count": 8,
   "id": "d6e42725-19e2-483d-8d63-a58a1f5b3035",
   "metadata": {},
   "outputs": [
    {
     "data": {
      "text/plain": [
       "(37,\n",
       " ['MSSubClass',\n",
       "  'LotFrontage',\n",
       "  'LotArea',\n",
       "  'OverallQual',\n",
       "  'OverallCond',\n",
       "  'YearBuilt',\n",
       "  'YearRemodAdd',\n",
       "  'MasVnrArea',\n",
       "  'BsmtFinSF1',\n",
       "  'BsmtFinSF2',\n",
       "  'BsmtUnfSF',\n",
       "  'TotalBsmtSF',\n",
       "  '1stFlrSF',\n",
       "  '2ndFlrSF',\n",
       "  'LowQualFinSF',\n",
       "  'GrLivArea',\n",
       "  'BsmtFullBath',\n",
       "  'BsmtHalfBath',\n",
       "  'FullBath',\n",
       "  'HalfBath',\n",
       "  'BedroomAbvGr',\n",
       "  'KitchenAbvGr',\n",
       "  'TotRmsAbvGrd',\n",
       "  'Fireplaces',\n",
       "  'GarageYrBlt',\n",
       "  'GarageCars',\n",
       "  'GarageArea',\n",
       "  'WoodDeckSF',\n",
       "  'OpenPorchSF',\n",
       "  'EnclosedPorch',\n",
       "  '3SsnPorch',\n",
       "  'ScreenPorch',\n",
       "  'PoolArea',\n",
       "  'MiscVal',\n",
       "  'MoSold',\n",
       "  'YrSold',\n",
       "  'SalePrice'])"
      ]
     },
     "execution_count": 8,
     "metadata": {},
     "output_type": "execute_result"
    }
   ],
   "source": [
    "n_cols = len(data.columns)\n",
    "numerical_cols = [col for col in data.columns if ('int64' == data.loc[:, col].dtype or 'float64' == data.loc[:, col].dtype)]\n",
    "len(numerical_cols), numerical_cols"
   ]
  },
  {
   "cell_type": "code",
   "execution_count": 9,
   "id": "d66217c3-29f4-41cb-bf7b-69353ea4d023",
   "metadata": {},
   "outputs": [
    {
     "data": {
      "text/plain": [
       "MSSubClass         0\n",
       "LotFrontage      259\n",
       "LotArea            0\n",
       "OverallQual        0\n",
       "OverallCond        0\n",
       "YearBuilt          0\n",
       "YearRemodAdd       0\n",
       "MasVnrArea         8\n",
       "BsmtFinSF1         0\n",
       "BsmtFinSF2         0\n",
       "BsmtUnfSF          0\n",
       "TotalBsmtSF        0\n",
       "1stFlrSF           0\n",
       "2ndFlrSF           0\n",
       "LowQualFinSF       0\n",
       "GrLivArea          0\n",
       "BsmtFullBath       0\n",
       "BsmtHalfBath       0\n",
       "FullBath           0\n",
       "HalfBath           0\n",
       "BedroomAbvGr       0\n",
       "KitchenAbvGr       0\n",
       "TotRmsAbvGrd       0\n",
       "Fireplaces         0\n",
       "GarageYrBlt       81\n",
       "GarageCars         0\n",
       "GarageArea         0\n",
       "WoodDeckSF         0\n",
       "OpenPorchSF        0\n",
       "EnclosedPorch      0\n",
       "3SsnPorch          0\n",
       "ScreenPorch        0\n",
       "PoolArea           0\n",
       "MiscVal            0\n",
       "MoSold             0\n",
       "YrSold             0\n",
       "SalePrice          0\n",
       "dtype: int64"
      ]
     },
     "execution_count": 9,
     "metadata": {},
     "output_type": "execute_result"
    }
   ],
   "source": [
    "data.loc[:, numerical_cols].isna().sum(0)"
   ]
  },
  {
   "cell_type": "code",
   "execution_count": 10,
   "id": "6206a25e-1832-46d7-ab65-8a15ed5b37de",
   "metadata": {},
   "outputs": [
    {
     "name": "stdout",
     "output_type": "stream",
     "text": [
      "MSSubClass embedding\n",
      "[ 20  30  40  45  50  60  70  75  80  85  90 120 160 180 190]\n",
      "0 NaN values removed\n",
      "MSSubClass log normalized\n",
      "mean and std\n",
      "3.7910610563921106 0.7044650845639633\n",
      "quantiles\n",
      "[2.996 2.996 3.912 4.248 5.247]\n"
     ]
    },
    {
     "data": {
      "image/png": "[encoded data removed]",
      "text/plain": [
       "<Figure size 432x288 with 1 Axes>"
      ]
     },
     "metadata": {
      "needs_background": "light"
     },
     "output_type": "display_data"
    },
    {
     "name": "stdout",
     "output_type": "stream",
     "text": [
      "259 NaN values removed\n",
      "LotFrontage log normalized\n",
      "mean and std\n",
      "4.191048610265486 0.35267148952733973\n",
      "quantiles\n",
      "[3.045 4.078 4.234 4.382 5.746]\n"
     ]
    },
    {
     "data": {
      "image/png": "[encoded data removed]",
      "text/plain": [
       "<Figure size 432x288 with 1 Axes>"
      ]
     },
     "metadata": {
      "needs_background": "light"
     },
     "output_type": "display_data"
    },
    {
     "name": "stdout",
     "output_type": "stream",
     "text": [
      "0 NaN values removed\n",
      "LotArea log normalized\n",
      "mean and std\n",
      "9.110838239505547 0.517270829682278\n",
      "quantiles\n",
      "[ 7.17   8.93   9.157  9.359 12.28 ]\n"
     ]
    },
    {
     "data": {
      "image/png": "[encoded data removed]",
      "text/plain": [
       "<Figure size 432x288 with 1 Axes>"
      ]
     },
     "metadata": {
      "needs_background": "light"
     },
     "output_type": "display_data"
    },
    {
     "name": "stdout",
     "output_type": "stream",
     "text": [
      "OverallQual embedding\n",
      "[ 1  2  3  4  5  6  7  8  9 10]\n",
      "0 NaN values removed\n",
      "OverallQual log normalized\n",
      "mean and std\n",
      "1.7807845417690322 0.24127590802611254\n",
      "quantiles\n",
      "[0.    1.609 1.792 1.946 2.303]\n"
     ]
    },
    {
     "data": {
      "image/png": "[encoded data removed]",
      "text/plain": [
       "<Figure size 432x288 with 1 Axes>"
      ]
     },
     "metadata": {
      "needs_background": "light"
     },
     "output_type": "display_data"
    },
    {
     "name": "stdout",
     "output_type": "stream",
     "text": [
      "OverallCond embedding\n",
      "[1 2 3 4 5 6 7 8 9]\n",
      "0 NaN values removed\n",
      "OverallCond log normalized\n",
      "mean and std\n",
      "1.6984877029560865 0.20215254446167225\n",
      "quantiles\n",
      "[0.    1.609 1.609 1.792 2.197]\n"
     ]
    },
    {
     "data": {
      "image/png": "[encoded data removed]",
      "text/plain": [
       "<Figure size 432x288 with 1 Axes>"
      ]
     },
     "metadata": {
      "needs_background": "light"
     },
     "output_type": "display_data"
    },
    {
     "name": "stdout",
     "output_type": "stream",
     "text": [
      "0 NaN values removed\n",
      "YearBuilt log normalized\n",
      "mean and std\n",
      "7.586314107569956 0.015391865872838084\n",
      "quantiles\n",
      "[7.535 7.578 7.587 7.601 7.606]\n"
     ]
    },
    {
     "data": {
      "image/png": "[encoded data removed]",
      "text/plain": [
       "<Figure size 432x288 with 1 Axes>"
      ]
     },
     "metadata": {
      "needs_background": "light"
     },
     "output_type": "display_data"
    },
    {
     "name": "stdout",
     "output_type": "stream",
     "text": [
      "0 NaN values removed\n",
      "YearRemodAdd log normalized\n",
      "mean and std\n",
      "7.5932523090853605 0.010425763086199722\n",
      "quantiles\n",
      "[7.576 7.584 7.598 7.603 7.606]\n"
     ]
    },
    {
     "data": {
      "image/png": "[encoded data removed]",
      "text/plain": [
       "<Figure size 432x288 with 1 Axes>"
      ]
     },
     "metadata": {
      "needs_background": "light"
     },
     "output_type": "display_data"
    },
    {
     "name": "stdout",
     "output_type": "stream",
     "text": [
      "8 NaN values removed\n",
      "MasVnrArea not normalized\n",
      "mean and std\n",
      "103.68526170798899 181.0038452261153\n",
      "quantiles\n",
      "[   0.    0.    0.  166. 1600.]\n"
     ]
    },
    {
     "data": {
      "image/png": "[encoded data removed]",
      "text/plain": [
       "<Figure size 432x288 with 1 Axes>"
      ]
     },
     "metadata": {
      "needs_background": "light"
     },
     "output_type": "display_data"
    },
    {
     "name": "stdout",
     "output_type": "stream",
     "text": [
      "0 NaN values removed\n",
      "BsmtFinSF1 not normalized\n",
      "mean and std\n",
      "443.6397260273973 455.94186610921986\n",
      "quantiles\n",
      "[   0.      0.    383.5   712.25 5644.  ]\n"
     ]
    },
    {
     "data": {
      "image/png": "[encoded data removed]",
      "text/plain": [
       "<Figure size 432x288 with 1 Axes>"
      ]
     },
     "metadata": {
      "needs_background": "light"
     },
     "output_type": "display_data"
    },
    {
     "name": "stdout",
     "output_type": "stream",
     "text": [
      "0 NaN values removed\n",
      "BsmtFinSF2 not normalized\n",
      "mean and std\n",
      "46.54931506849315 161.26401701700965\n",
      "quantiles\n",
      "[   0.    0.    0.    0. 1474.]\n"
     ]
    },
    {
     "data": {
      "image/png": "[encoded data removed]",
      "text/plain": [
       "<Figure size 432x288 with 1 Axes>"
      ]
     },
     "metadata": {
      "needs_background": "light"
     },
     "output_type": "display_data"
    },
    {
     "name": "stdout",
     "output_type": "stream",
     "text": [
      "0 NaN values removed\n",
      "BsmtUnfSF not normalized\n",
      "mean and std\n",
      "567.2404109589041 441.71560507210364\n",
      "quantiles\n",
      "[   0.   223.   477.5  808.  2336. ]\n"
     ]
    },
    {
     "data": {
      "image/png": "[encoded data removed]",
      "text/plain": [
       "<Figure size 432x288 with 1 Axes>"
      ]
     },
     "metadata": {
      "needs_background": "light"
     },
     "output_type": "display_data"
    },
    {
     "name": "stdout",
     "output_type": "stream",
     "text": [
      "0 NaN values removed\n",
      "TotalBsmtSF not normalized\n",
      "mean and std\n",
      "1057.4294520547944 438.5550571748915\n",
      "quantiles\n",
      "[   0.    795.75  991.5  1298.25 6110.  ]\n"
     ]
    },
    {
     "data": {
      "image/png": "[encoded data removed]",
      "text/plain": [
       "<Figure size 432x288 with 1 Axes>"
      ]
     },
     "metadata": {
      "needs_background": "light"
     },
     "output_type": "display_data"
    },
    {
     "name": "stdout",
     "output_type": "stream",
     "text": [
      "0 NaN values removed\n",
      "1stFlrSF log normalized\n",
      "mean and std\n",
      "7.0075014449454125 0.31762128461879663\n",
      "quantiles\n",
      "[5.811 6.782 6.991 7.238 8.454]\n"
     ]
    },
    {
     "data": {
      "image/png": "[encoded data removed]",
      "text/plain": [
       "<Figure size 432x288 with 1 Axes>"
      ]
     },
     "metadata": {
      "needs_background": "light"
     },
     "output_type": "display_data"
    },
    {
     "name": "stdout",
     "output_type": "stream",
     "text": [
      "0 NaN values removed\n",
      "2ndFlrSF not normalized\n",
      "mean and std\n",
      "346.99246575342465 436.3789142391623\n",
      "quantiles\n",
      "[   0.    0.    0.  728. 2065.]\n"
     ]
    },
    {
     "data": {
      "image/png": "[encoded data removed]",
      "text/plain": [
       "<Figure size 432x288 with 1 Axes>"
      ]
     },
     "metadata": {
      "needs_background": "light"
     },
     "output_type": "display_data"
    },
    {
     "name": "stdout",
     "output_type": "stream",
     "text": [
      "0 NaN values removed\n",
      "LowQualFinSF not normalized\n",
      "mean and std\n",
      "5.844520547945206 48.60642684100095\n",
      "quantiles\n",
      "[  0.   0.   0.   0. 572.]\n"
     ]
    },
    {
     "data": {
      "image/png": "[encoded data removed]",
      "text/plain": [
       "<Figure size 432x288 with 1 Axes>"
      ]
     },
     "metadata": {
      "needs_background": "light"
     },
     "output_type": "display_data"
    },
    {
     "name": "stdout",
     "output_type": "stream",
     "text": [
      "0 NaN values removed\n",
      "GrLivArea log normalized\n",
      "mean and std\n",
      "7.267774383311004 0.3334361751053677\n",
      "quantiles\n",
      "[5.811 7.03  7.289 7.483 8.638]\n"
     ]
    },
    {
     "data": {
      "image/png": "[encoded data removed]",
      "text/plain": [
       "<Figure size 432x288 with 1 Axes>"
      ]
     },
     "metadata": {
      "needs_background": "light"
     },
     "output_type": "display_data"
    },
    {
     "name": "stdout",
     "output_type": "stream",
     "text": [
      "BsmtFullBath embedding\n",
      "[0 1 2 3]\n",
      "0 NaN values removed\n",
      "BsmtFullBath not normalized\n",
      "mean and std\n",
      "0.42534246575342466 0.5187328665380639\n",
      "quantiles\n",
      "[0. 0. 0. 1. 3.]\n"
     ]
    },
    {
     "data": {
      "image/png": "[encoded data removed]",
      "text/plain": [
       "<Figure size 432x288 with 1 Axes>"
      ]
     },
     "metadata": {
      "needs_background": "light"
     },
     "output_type": "display_data"
    },
    {
     "name": "stdout",
     "output_type": "stream",
     "text": [
      "BsmtHalfBath embedding\n",
      "[0 1 2]\n",
      "0 NaN values removed\n",
      "BsmtHalfBath not normalized\n",
      "mean and std\n",
      "0.057534246575342465 0.2386708676687363\n",
      "quantiles\n",
      "[0. 0. 0. 0. 2.]\n"
     ]
    },
    {
     "data": {
      "image/png": "[encoded data removed]",
      "text/plain": [
       "<Figure size 432x288 with 1 Axes>"
      ]
     },
     "metadata": {
      "needs_background": "light"
     },
     "output_type": "display_data"
    },
    {
     "name": "stdout",
     "output_type": "stream",
     "text": [
      "FullBath embedding\n",
      "[0 1 2 3]\n",
      "0 NaN values removed\n",
      "FullBath not normalized\n",
      "mean and std\n",
      "1.5650684931506849 0.5507270991829273\n",
      "quantiles\n",
      "[0. 1. 2. 2. 3.]\n"
     ]
    },
    {
     "data": {
      "image/png": "[encoded data removed]",
      "text/plain": [
       "<Figure size 432x288 with 1 Axes>"
      ]
     },
     "metadata": {
      "needs_background": "light"
     },
     "output_type": "display_data"
    },
    {
     "name": "stdout",
     "output_type": "stream",
     "text": [
      "HalfBath embedding\n",
      "[0 1 2]\n",
      "0 NaN values removed\n",
      "HalfBath not normalized\n",
      "mean and std\n",
      "0.38287671232876713 0.5027131305719648\n",
      "quantiles\n",
      "[0. 0. 0. 1. 2.]\n"
     ]
    },
    {
     "data": {
      "image/png": "[encoded data removed]",
      "text/plain": [
       "<Figure size 432x288 with 1 Axes>"
      ]
     },
     "metadata": {
      "needs_background": "light"
     },
     "output_type": "display_data"
    },
    {
     "name": "stdout",
     "output_type": "stream",
     "text": [
      "BedroomAbvGr embedding\n",
      "[0 1 2 3 4 5 6 8]\n",
      "0 NaN values removed\n",
      "BedroomAbvGr not normalized\n",
      "mean and std\n",
      "2.8664383561643834 0.8154986202469597\n",
      "quantiles\n",
      "[0. 2. 3. 3. 8.]\n"
     ]
    },
    {
     "data": {
      "image/png": "[encoded data removed]",
      "text/plain": [
       "<Figure size 432x288 with 1 Axes>"
      ]
     },
     "metadata": {
      "needs_background": "light"
     },
     "output_type": "display_data"
    },
    {
     "name": "stdout",
     "output_type": "stream",
     "text": [
      "KitchenAbvGr embedding\n",
      "[0 1 2 3]\n",
      "0 NaN values removed\n",
      "KitchenAbvGr not normalized\n",
      "mean and std\n",
      "1.0465753424657533 0.22026272717154644\n",
      "quantiles\n",
      "[0. 1. 1. 1. 3.]\n"
     ]
    },
    {
     "data": {
      "image/png": "[encoded data removed]",
      "text/plain": [
       "<Figure size 432x288 with 1 Axes>"
      ]
     },
     "metadata": {
      "needs_background": "light"
     },
     "output_type": "display_data"
    },
    {
     "name": "stdout",
     "output_type": "stream",
     "text": [
      "TotRmsAbvGrd embedding\n",
      "[ 2  3  4  5  6  7  8  9 10 11 12 14]\n",
      "0 NaN values removed\n",
      "TotRmsAbvGrd log normalized\n",
      "mean and std\n",
      "1.8437885870256994 0.2496784271285176\n",
      "quantiles\n",
      "[0.693 1.609 1.792 1.946 2.639]\n"
     ]
    },
    {
     "data": {
      "image/png": "[encoded data removed]",
      "text/plain": [
       "<Figure size 432x288 with 1 Axes>"
      ]
     },
     "metadata": {
      "needs_background": "light"
     },
     "output_type": "display_data"
    },
    {
     "name": "stdout",
     "output_type": "stream",
     "text": [
      "Fireplaces embedding\n",
      "[0 1 2 3]\n",
      "0 NaN values removed\n",
      "Fireplaces not normalized\n",
      "mean and std\n",
      "0.613013698630137 0.6444455723354444\n",
      "quantiles\n",
      "[0. 0. 1. 1. 3.]\n"
     ]
    },
    {
     "data": {
      "image/png": "[encoded data removed]",
      "text/plain": [
       "<Figure size 432x288 with 1 Axes>"
      ]
     },
     "metadata": {
      "needs_background": "light"
     },
     "output_type": "display_data"
    },
    {
     "name": "stdout",
     "output_type": "stream",
     "text": [
      "81 NaN values removed\n",
      "GarageYrBlt log normalized\n",
      "mean and std\n",
      "7.590019134707191 0.01252690397892355\n",
      "quantiles\n",
      "[7.55  7.581 7.591 7.602 7.606]\n"
     ]
    },
    {
     "data": {
      "image/png": "[encoded data removed]",
      "text/plain": [
       "<Figure size 432x288 with 1 Axes>"
      ]
     },
     "metadata": {
      "needs_background": "light"
     },
     "output_type": "display_data"
    },
    {
     "name": "stdout",
     "output_type": "stream",
     "text": [
      "GarageCars embedding\n",
      "[0 1 2 3 4]\n",
      "0 NaN values removed\n",
      "GarageCars not normalized\n",
      "mean and std\n",
      "1.7671232876712328 0.7470590364745161\n",
      "quantiles\n",
      "[0. 1. 2. 2. 4.]\n"
     ]
    },
    {
     "data": {
      "image/png": "[encoded data removed]",
      "text/plain": [
       "<Figure size 432x288 with 1 Axes>"
      ]
     },
     "metadata": {
      "needs_background": "light"
     },
     "output_type": "display_data"
    },
    {
     "name": "stdout",
     "output_type": "stream",
     "text": [
      "0 NaN values removed\n",
      "GarageArea not normalized\n",
      "mean and std\n",
      "472.9801369863014 213.73160807515626\n",
      "quantiles\n",
      "[   0.   334.5  480.   576.  1418. ]\n"
     ]
    },
    {
     "data": {
      "image/png": "[encoded data removed]",
      "text/plain": [
       "<Figure size 432x288 with 1 Axes>"
      ]
     },
     "metadata": {
      "needs_background": "light"
     },
     "output_type": "display_data"
    },
    {
     "name": "stdout",
     "output_type": "stream",
     "text": [
      "0 NaN values removed\n",
      "WoodDeckSF not normalized\n",
      "mean and std\n",
      "94.2445205479452 125.29586275452299\n",
      "quantiles\n",
      "[  0.   0.   0. 168. 857.]\n"
     ]
    },
    {
     "data": {
      "image/png": "[encoded data removed]",
      "text/plain": [
       "<Figure size 432x288 with 1 Axes>"
      ]
     },
     "metadata": {
      "needs_background": "light"
     },
     "output_type": "display_data"
    },
    {
     "name": "stdout",
     "output_type": "stream",
     "text": [
      "0 NaN values removed\n",
      "OpenPorchSF not normalized\n",
      "mean and std\n",
      "46.66027397260274 66.23333336953536\n",
      "quantiles\n",
      "[  0.   0.  25.  68. 547.]\n"
     ]
    },
    {
     "data": {
      "image/png": "[encoded data removed]",
      "text/plain": [
       "<Figure size 432x288 with 1 Axes>"
      ]
     },
     "metadata": {
      "needs_background": "light"
     },
     "output_type": "display_data"
    },
    {
     "name": "stdout",
     "output_type": "stream",
     "text": [
      "0 NaN values removed\n",
      "EnclosedPorch not normalized\n",
      "mean and std\n",
      "21.954109589041096 61.098213801113864\n",
      "quantiles\n",
      "[  0.   0.   0.   0. 552.]\n"
     ]
    },
    {
     "data": {
      "image/png": "[encoded data removed]",
      "text/plain": [
       "<Figure size 432x288 with 1 Axes>"
      ]
     },
     "metadata": {
      "needs_background": "light"
     },
     "output_type": "display_data"
    },
    {
     "name": "stdout",
     "output_type": "stream",
     "text": [
      "0 NaN values removed\n",
      "3SsnPorch not normalized\n",
      "mean and std\n",
      "3.4095890410958902 29.307288655286133\n",
      "quantiles\n",
      "[  0.   0.   0.   0. 508.]\n"
     ]
    },
    {
     "data": {
      "image/png": "[encoded data removed]",
      "text/plain": [
       "<Figure size 432x288 with 1 Axes>"
      ]
     },
     "metadata": {
      "needs_background": "light"
     },
     "output_type": "display_data"
    },
    {
     "name": "stdout",
     "output_type": "stream",
     "text": [
      "0 NaN values removed\n",
      "ScreenPorch not normalized\n",
      "mean and std\n",
      "15.060958904109588 55.73831700582774\n",
      "quantiles\n",
      "[  0.   0.   0.   0. 480.]\n"
     ]
    },
    {
     "data": {
      "image/png": "[encoded data removed]",
      "text/plain": [
       "<Figure size 432x288 with 1 Axes>"
      ]
     },
     "metadata": {
      "needs_background": "light"
     },
     "output_type": "display_data"
    },
    {
     "name": "stdout",
     "output_type": "stream",
     "text": [
      "PoolArea embedding\n",
      "[  0 480 512 519 555 576 648 738]\n",
      "0 NaN values removed\n",
      "PoolArea not normalized\n",
      "mean and std\n",
      "2.758904109589041 40.163545235976265\n",
      "quantiles\n",
      "[  0.   0.   0.   0. 738.]\n"
     ]
    },
    {
     "data": {
      "image/png": "[encoded data removed]",
      "text/plain": [
       "<Figure size 432x288 with 1 Axes>"
      ]
     },
     "metadata": {
      "needs_background": "light"
     },
     "output_type": "display_data"
    },
    {
     "name": "stdout",
     "output_type": "stream",
     "text": [
      "0 NaN values removed\n",
      "MiscVal not normalized\n",
      "mean and std\n",
      "43.489041095890414 495.9530902092673\n",
      "quantiles\n",
      "[    0.     0.     0.     0. 15500.]\n"
     ]
    },
    {
     "data": {
      "image/png": "[encoded data removed]",
      "text/plain": [
       "<Figure size 432x288 with 1 Axes>"
      ]
     },
     "metadata": {
      "needs_background": "light"
     },
     "output_type": "display_data"
    },
    {
     "name": "stdout",
     "output_type": "stream",
     "text": [
      "MoSold embedding\n",
      "[ 1  2  3  4  5  6  7  8  9 10 11 12]\n",
      "0 NaN values removed\n",
      "MoSold log normalized\n",
      "mean and std\n",
      "1.7246834412727357 0.5426315804499567\n",
      "quantiles\n",
      "[0.    1.609 1.792 2.079 2.485]\n"
     ]
    },
    {
     "data": {
      "image/png": "[encoded data removed]",
      "text/plain": [
       "<Figure size 432x288 with 1 Axes>"
      ]
     },
     "metadata": {
      "needs_background": "light"
     },
     "output_type": "display_data"
    },
    {
     "name": "stdout",
     "output_type": "stream",
     "text": [
      "YrSold embedding\n",
      "[2006 2007 2008 2009 2010]\n",
      "0 NaN values removed\n",
      "YrSold log normalized\n",
      "mean and std\n",
      "7.604802501731742 0.0006612152576911314\n",
      "quantiles\n",
      "[7.604 7.604 7.605 7.605 7.606]\n"
     ]
    },
    {
     "data": {
      "image/png": "[encoded data removed]",
      "text/plain": [
       "<Figure size 432x288 with 1 Axes>"
      ]
     },
     "metadata": {
      "needs_background": "light"
     },
     "output_type": "display_data"
    },
    {
     "name": "stdout",
     "output_type": "stream",
     "text": [
      "0 NaN values removed\n",
      "SalePrice log normalized\n",
      "mean and std\n",
      "12.024050901109383 0.39931504624370256\n",
      "quantiles\n",
      "[10.46  11.775 12.002 12.274 13.534]\n"
     ]
    },
    {
     "data": {
      "image/png": "[encoded data removed]",
      "text/plain": [
       "<Figure size 432x288 with 1 Axes>"
      ]
     },
     "metadata": {
      "needs_background": "light"
     },
     "output_type": "display_data"
    }
   ],
   "source": [
    "featurizations = defaultdict(list)\n",
    "for ncol in numerical_cols:\n",
    "    arr = data.loc[:, ncol].values\n",
    "    n_uniques = len(np.unique(arr))\n",
    "    hist = False\n",
    "    embed = False\n",
    "    if n_uniques <= 15:\n",
    "        print(ncol, \"embedding\")\n",
    "        print(np.unique(arr))\n",
    "        embed = True\n",
    "    n_nans = np.isnan(arr).sum()\n",
    "    print(f\"{n_nans} NaN values removed\")\n",
    "    arr = arr[~np.isnan(arr)]\n",
    "    if arr.min() > 0:\n",
    "        print(ncol, \"log normalized\")\n",
    "        arr = np.log(arr)\n",
    "        hist = True\n",
    "    else:\n",
    "        print(ncol, \"not normalized\")\n",
    "        hist = True\n",
    "    if hist:\n",
    "        print('mean and std')\n",
    "        print(arr.mean(), arr.std())\n",
    "        print('quantiles')\n",
    "        print(np.quantile(arr, [0.0, 0.25, 0.5, 0.75, 1.0]))\n",
    "        plt.figure()\n",
    "        plt.hist(arr)\n",
    "        plt.show()\n",
    "        plt.close()\n",
    "    if embed:\n",
    "        cat = \"embed double check\"\n",
    "    elif n_nans > 0:\n",
    "        cat = \"nan problem\"\n",
    "    elif arr.min() > 0:\n",
    "        cat = \"log norm\"\n",
    "    else:\n",
    "        cat = \"identity\"\n",
    "    featurizations[cat].append(ncol)"
   ]
  },
  {
   "cell_type": "code",
   "execution_count": 11,
   "id": "d2789c97-1270-4ed9-934d-4c3654f6e40c",
   "metadata": {},
   "outputs": [
    {
     "data": {
      "text/plain": [
       "defaultdict(list,\n",
       "            {'embed double check': ['MSSubClass',\n",
       "              'OverallQual',\n",
       "              'OverallCond',\n",
       "              'BsmtFullBath',\n",
       "              'BsmtHalfBath',\n",
       "              'FullBath',\n",
       "              'HalfBath',\n",
       "              'BedroomAbvGr',\n",
       "              'KitchenAbvGr',\n",
       "              'TotRmsAbvGrd',\n",
       "              'Fireplaces',\n",
       "              'GarageCars',\n",
       "              'PoolArea',\n",
       "              'MoSold',\n",
       "              'YrSold'],\n",
       "             'nan problem': ['LotFrontage', 'MasVnrArea', 'GarageYrBlt'],\n",
       "             'log norm': ['LotArea',\n",
       "              'YearBuilt',\n",
       "              'YearRemodAdd',\n",
       "              '1stFlrSF',\n",
       "              'GrLivArea',\n",
       "              'SalePrice'],\n",
       "             'identity': ['BsmtFinSF1',\n",
       "              'BsmtFinSF2',\n",
       "              'BsmtUnfSF',\n",
       "              'TotalBsmtSF',\n",
       "              '2ndFlrSF',\n",
       "              'LowQualFinSF',\n",
       "              'GarageArea',\n",
       "              'WoodDeckSF',\n",
       "              'OpenPorchSF',\n",
       "              'EnclosedPorch',\n",
       "              '3SsnPorch',\n",
       "              'ScreenPorch',\n",
       "              'MiscVal']})"
      ]
     },
     "execution_count": 11,
     "metadata": {},
     "output_type": "execute_result"
    }
   ],
   "source": [
    "featurizations"
   ]
  },
  {
   "cell_type": "code",
   "execution_count": 14,
   "id": "ad83da7d-1fae-4973-80fc-d477d67a3393",
   "metadata": {},
   "outputs": [],
   "source": [
    "double_check = iter(featurizations['embed double check'])"
   ]
  },
  {
   "cell_type": "code",
   "execution_count": 89,
   "id": "63b03c5d-fa32-4b17-9141-12214c1d58ff",
   "metadata": {},
   "outputs": [
    {
     "data": {
      "text/plain": [
       "14"
      ]
     },
     "execution_count": 89,
     "metadata": {},
     "output_type": "execute_result"
    }
   ],
   "source": [
    "len(embedded) + len(scaled)"
   ]
  },
  {
   "cell_type": "code",
   "execution_count": 90,
   "id": "7611d65c-e396-4187-a73b-e5cd1d8274ff",
   "metadata": {},
   "outputs": [
    {
     "data": {
      "text/plain": [
       "15"
      ]
     },
     "execution_count": 90,
     "metadata": {},
     "output_type": "execute_result"
    }
   ],
   "source": [
    "len(featurizations['embed double check'])"
   ]
  },
  {
   "cell_type": "code",
   "execution_count": 92,
   "id": "d0d6141b-4bbd-4d18-9924-a7002061aad4",
   "metadata": {},
   "outputs": [],
   "source": [
    "ncol = [x for x in featurizations['embed double check'] if x not in (embedded + scaled)][0]"
   ]
  },
  {
   "cell_type": "code",
   "execution_count": 18,
   "id": "4a23e017-cb67-4c50-8c49-5ce6303cbd02",
   "metadata": {},
   "outputs": [],
   "source": [
    "embedded = []\n",
    "scaled = []"
   ]
  },
  {
   "cell_type": "code",
   "execution_count": 88,
   "id": "8638fd34-dbd4-45e9-b354-a3142d4a38c5",
   "metadata": {},
   "outputs": [
    {
     "ename": "StopIteration",
     "evalue": "",
     "output_type": "error",
     "traceback": [
      "\u001b[0;31m---------------------------------------------------------------------------\u001b[0m",
      "\u001b[0;31mStopIteration\u001b[0m                             Traceback (most recent call last)",
      "\u001b[0;32m<ipython-input-88-9bd97f766528>\u001b[0m in \u001b[0;36m<module>\u001b[0;34m\u001b[0m\n\u001b[1;32m      1\u001b[0m \u001b[0;32mfrom\u001b[0m \u001b[0mcollections\u001b[0m \u001b[0;32mimport\u001b[0m \u001b[0mCounter\u001b[0m\u001b[0;34m\u001b[0m\u001b[0;34m\u001b[0m\u001b[0m\n\u001b[0;32m----> 2\u001b[0;31m \u001b[0mncol\u001b[0m \u001b[0;34m=\u001b[0m \u001b[0mnext\u001b[0m\u001b[0;34m(\u001b[0m\u001b[0mdouble_check\u001b[0m\u001b[0;34m)\u001b[0m\u001b[0;34m\u001b[0m\u001b[0;34m\u001b[0m\u001b[0m\n\u001b[0m\u001b[1;32m      3\u001b[0m \u001b[0mprint\u001b[0m\u001b[0;34m(\u001b[0m\u001b[0;34mf\"checking {ncol}\"\u001b[0m\u001b[0;34m)\u001b[0m\u001b[0;34m\u001b[0m\u001b[0;34m\u001b[0m\u001b[0m\n",
      "\u001b[0;31mStopIteration\u001b[0m: "
     ]
    }
   ],
   "source": [
    "from collections import Counter\n",
    "ncol = next(double_check)\n",
    "print(f\"checking {ncol}\")"
   ]
  },
  {
   "cell_type": "code",
   "execution_count": 94,
   "id": "035af822-5897-4a81-ba8b-6693e861f496",
   "metadata": {},
   "outputs": [
    {
     "name": "stdout",
     "output_type": "stream",
     "text": [
      "0 94\n",
      "1 5\n",
      "2 0\n"
     ]
    }
   ],
   "source": [
    "counter = Counter([val for val in data[ncol].values])\n",
    "val_counts = sorted(list(counter.items()), key=lambda x: x[0])\n",
    "total_count = sum(counter.values())\n",
    "for val, count in val_counts:\n",
    "    print(val, int(100 * count/total_count))"
   ]
  },
  {
   "cell_type": "code",
   "execution_count": 93,
   "id": "ec326343-bc72-44c1-8def-3933e7371dad",
   "metadata": {},
   "outputs": [
    {
     "data": {
      "text/plain": [
       "'BsmtHalfBath'"
      ]
     },
     "execution_count": 93,
     "metadata": {},
     "output_type": "execute_result"
    }
   ],
   "source": [
    "ncol"
   ]
  },
  {
   "cell_type": "code",
   "execution_count": 95,
   "id": "c653c60a-e5ac-44a0-8e32-4fab98b1c35f",
   "metadata": {},
   "outputs": [],
   "source": [
    "embedded.append(ncol)\n",
    "# scaled.append(ncol)"
   ]
  },
  {
   "cell_type": "code",
   "execution_count": 96,
   "id": "ff5adeb2-25be-4c8e-9005-d05ada8ed2ac",
   "metadata": {},
   "outputs": [
    {
     "data": {
      "text/plain": [
       "(['BsmtFullBath',\n",
       "  'FullBath',\n",
       "  'HalfBath',\n",
       "  'KitchenAbvGr',\n",
       "  'Fireplaces',\n",
       "  'MoSold',\n",
       "  'YrSold',\n",
       "  'BsmtHalfBath'],\n",
       " ['OverallQual',\n",
       "  'MSSubClass',\n",
       "  'OverallCond',\n",
       "  'BedroomAbvGr',\n",
       "  'TotRmsAbvGrd',\n",
       "  'GarageCars',\n",
       "  'PoolArea'])"
      ]
     },
     "execution_count": 96,
     "metadata": {},
     "output_type": "execute_result"
    }
   ],
   "source": [
    "embedded, scaled"
   ]
  },
  {
   "cell_type": "code",
   "execution_count": 98,
   "id": "b8492873-70c1-43fc-9b69-f1461af9a657",
   "metadata": {},
   "outputs": [],
   "source": [
    "# np.save('data/toembedlist', embedded)"
   ]
  },
  {
   "cell_type": "code",
   "execution_count": 99,
   "id": "844c65d2-1b4f-44d4-a2e4-1f9b21c48ad7",
   "metadata": {},
   "outputs": [],
   "source": [
    "# np.save('data/toscalelist', scaled)"
   ]
  },
  {
   "cell_type": "code",
   "execution_count": 100,
   "id": "ee41d4e9-0a01-4cd8-b222-f550059c9157",
   "metadata": {},
   "outputs": [],
   "source": [
    "# np.save('data/tolognorm', featurizations['log norm'])"
   ]
  },
  {
   "cell_type": "code",
   "execution_count": 101,
   "id": "ca8865ba-5543-4fd8-9192-ba045998320b",
   "metadata": {},
   "outputs": [],
   "source": [
    "# np.save('data/toidentity', featurizations['identity'])"
   ]
  },
  {
   "cell_type": "markdown",
   "id": "9dd417d8-e494-46f5-80ba-e15ccac57f53",
   "metadata": {},
   "source": [
    "- remove the Nan problem columns\n",
    "- review embedding columns with either -1, 1 scaling of vocab size\n",
    "- apply the rest as precribed\n",
    "- log the pool area"
   ]
  },
  {
   "cell_type": "code",
   "execution_count": 11,
   "id": "fa7eb90c-0b8e-4416-97ad-42ea9458d8f9",
   "metadata": {},
   "outputs": [
    {
     "data": {
      "text/plain": [
       "43"
      ]
     },
     "execution_count": 11,
     "metadata": {},
     "output_type": "execute_result"
    }
   ],
   "source": [
    "len([val for val in data.dtypes if val == 'object'])"
   ]
  },
  {
   "cell_type": "code",
   "execution_count": 19,
   "id": "a2209013-a947-4009-9168-ee90d75eea61",
   "metadata": {},
   "outputs": [
    {
     "name": "stdout",
     "output_type": "stream",
     "text": [
      "col name MSZoning\n",
      "num NaN 0\n",
      "unique values: ['RL' 'RM' 'C (all)' 'FV' 'RH']\n",
      "***************\n",
      "col name Street\n",
      "num NaN 0\n",
      "unique values: ['Pave' 'Grvl']\n",
      "***************\n",
      "col name Alley\n",
      "num NaN 1369\n",
      "unique values: ['nan' 'Grvl' 'Pave']\n",
      "***************\n",
      "col name LotShape\n",
      "num NaN 0\n",
      "unique values: ['Reg' 'IR1' 'IR2' 'IR3']\n",
      "***************\n",
      "col name LandContour\n",
      "num NaN 0\n",
      "unique values: ['Lvl' 'Bnk' 'Low' 'HLS']\n",
      "***************\n",
      "col name Utilities\n",
      "num NaN 0\n",
      "unique values: ['AllPub' 'NoSeWa']\n",
      "***************\n",
      "col name LotConfig\n",
      "num NaN 0\n",
      "unique values: ['Inside' 'FR2' 'Corner' 'CulDSac' 'FR3']\n",
      "***************\n",
      "col name LandSlope\n",
      "num NaN 0\n",
      "unique values: ['Gtl' 'Mod' 'Sev']\n",
      "***************\n",
      "col name Neighborhood\n",
      "num NaN 0\n",
      "unique values: ['CollgCr' 'Veenker' 'Crawfor' 'NoRidge' 'Mitchel' 'Somerst' 'NWAmes'\n",
      " 'OldTown' 'BrkSide' 'Sawyer' 'NridgHt' 'NAmes' 'SawyerW' 'IDOTRR'\n",
      " 'MeadowV' 'Edwards' 'Timber' 'Gilbert' 'StoneBr' 'ClearCr' 'NPkVill'\n",
      " 'Blmngtn' 'BrDale' 'SWISU' 'Blueste']\n",
      "***************\n",
      "col name Condition1\n",
      "num NaN 0\n",
      "unique values: ['Norm' 'Feedr' 'PosN' 'Artery' 'RRAe' 'RRNn' 'RRAn' 'PosA' 'RRNe']\n",
      "***************\n",
      "col name Condition2\n",
      "num NaN 0\n",
      "unique values: ['Norm' 'Artery' 'RRNn' 'Feedr' 'PosN' 'PosA' 'RRAn' 'RRAe']\n",
      "***************\n",
      "col name BldgType\n",
      "num NaN 0\n",
      "unique values: ['1Fam' '2fmCon' 'Duplex' 'TwnhsE' 'Twnhs']\n",
      "***************\n",
      "col name HouseStyle\n",
      "num NaN 0\n",
      "unique values: ['2Story' '1Story' '1.5Fin' '1.5Unf' 'SFoyer' 'SLvl' '2.5Unf' '2.5Fin']\n",
      "***************\n",
      "col name RoofStyle\n",
      "num NaN 0\n",
      "unique values: ['Gable' 'Hip' 'Gambrel' 'Mansard' 'Flat' 'Shed']\n",
      "***************\n",
      "col name RoofMatl\n",
      "num NaN 0\n",
      "unique values: ['CompShg' 'WdShngl' 'Metal' 'WdShake' 'Membran' 'Tar&Grv' 'Roll'\n",
      " 'ClyTile']\n",
      "***************\n",
      "col name Exterior1st\n",
      "num NaN 0\n",
      "unique values: ['VinylSd' 'MetalSd' 'Wd Sdng' 'HdBoard' 'BrkFace' 'WdShing' 'CemntBd'\n",
      " 'Plywood' 'AsbShng' 'Stucco' 'BrkComm' 'AsphShn' 'Stone' 'ImStucc'\n",
      " 'CBlock']\n",
      "***************\n",
      "col name Exterior2nd\n",
      "num NaN 0\n",
      "unique values: ['VinylSd' 'MetalSd' 'Wd Shng' 'HdBoard' 'Plywood' 'Wd Sdng' 'CmentBd'\n",
      " 'BrkFace' 'Stucco' 'AsbShng' 'Brk Cmn' 'ImStucc' 'AsphShn' 'Stone'\n",
      " 'Other' 'CBlock']\n",
      "***************\n",
      "col name MasVnrType\n",
      "num NaN 8\n",
      "unique values: ['BrkFace' 'None' 'Stone' 'BrkCmn' 'nan']\n",
      "***************\n",
      "col name ExterQual\n",
      "num NaN 0\n",
      "unique values: ['Gd' 'TA' 'Ex' 'Fa']\n",
      "***************\n",
      "col name ExterCond\n",
      "num NaN 0\n",
      "unique values: ['TA' 'Gd' 'Fa' 'Po' 'Ex']\n",
      "***************\n",
      "col name Foundation\n",
      "num NaN 0\n",
      "unique values: ['PConc' 'CBlock' 'BrkTil' 'Wood' 'Slab' 'Stone']\n",
      "***************\n",
      "col name BsmtQual\n",
      "num NaN 37\n",
      "unique values: ['Gd' 'TA' 'Ex' 'nan' 'Fa']\n",
      "***************\n",
      "col name BsmtCond\n",
      "num NaN 37\n",
      "unique values: ['TA' 'Gd' 'nan' 'Fa' 'Po']\n",
      "***************\n",
      "col name BsmtExposure\n",
      "num NaN 38\n",
      "unique values: ['No' 'Gd' 'Mn' 'Av' 'nan']\n",
      "***************\n",
      "col name BsmtFinType1\n",
      "num NaN 37\n",
      "unique values: ['GLQ' 'ALQ' 'Unf' 'Rec' 'BLQ' 'nan' 'LwQ']\n",
      "***************\n",
      "col name BsmtFinType2\n",
      "num NaN 38\n",
      "unique values: ['Unf' 'BLQ' 'nan' 'ALQ' 'Rec' 'LwQ' 'GLQ']\n",
      "***************\n",
      "col name Heating\n",
      "num NaN 0\n",
      "unique values: ['GasA' 'GasW' 'Grav' 'Wall' 'OthW' 'Floor']\n",
      "***************\n",
      "col name HeatingQC\n",
      "num NaN 0\n",
      "unique values: ['Ex' 'Gd' 'TA' 'Fa' 'Po']\n",
      "***************\n",
      "col name CentralAir\n",
      "num NaN 0\n",
      "unique values: ['Y' 'N']\n",
      "***************\n",
      "col name Electrical\n",
      "num NaN 1\n",
      "unique values: ['SBrkr' 'FuseF' 'FuseA' 'FuseP' 'Mix' 'nan']\n",
      "***************\n",
      "col name KitchenQual\n",
      "num NaN 0\n",
      "unique values: ['Gd' 'TA' 'Ex' 'Fa']\n",
      "***************\n",
      "col name Functional\n",
      "num NaN 0\n",
      "unique values: ['Typ' 'Min1' 'Maj1' 'Min2' 'Mod' 'Maj2' 'Sev']\n",
      "***************\n",
      "col name FireplaceQu\n",
      "num NaN 690\n",
      "unique values: ['nan' 'TA' 'Gd' 'Fa' 'Ex' 'Po']\n",
      "***************\n",
      "col name GarageType\n",
      "num NaN 81\n",
      "unique values: ['Attchd' 'Detchd' 'BuiltIn' 'CarPort' 'nan' 'Basment' '2Types']\n",
      "***************\n",
      "col name GarageFinish\n",
      "num NaN 81\n",
      "unique values: ['RFn' 'Unf' 'Fin' 'nan']\n",
      "***************\n",
      "col name GarageQual\n",
      "num NaN 81\n",
      "unique values: ['TA' 'Fa' 'Gd' 'nan' 'Ex' 'Po']\n",
      "***************\n",
      "col name GarageCond\n",
      "num NaN 81\n",
      "unique values: ['TA' 'Fa' 'nan' 'Gd' 'Po' 'Ex']\n",
      "***************\n",
      "col name PavedDrive\n",
      "num NaN 0\n",
      "unique values: ['Y' 'N' 'P']\n",
      "***************\n",
      "col name PoolQC\n",
      "num NaN 1453\n",
      "unique values: ['nan' 'Ex' 'Fa' 'Gd']\n",
      "***************\n",
      "col name Fence\n",
      "num NaN 1179\n",
      "unique values: ['nan' 'MnPrv' 'GdWo' 'GdPrv' 'MnWw']\n",
      "***************\n",
      "col name MiscFeature\n",
      "num NaN 1406\n",
      "unique values: ['nan' 'Shed' 'Gar2' 'Othr' 'TenC']\n",
      "***************\n",
      "col name SaleType\n",
      "num NaN 0\n",
      "unique values: ['WD' 'New' 'COD' 'ConLD' 'ConLI' 'CWD' 'ConLw' 'Con' 'Oth']\n",
      "***************\n",
      "col name SaleCondition\n",
      "num NaN 0\n",
      "unique values: ['Normal' 'Abnorml' 'Partial' 'AdjLand' 'Alloca' 'Family']\n",
      "***************\n"
     ]
    }
   ],
   "source": [
    "for col in data.columns:\n",
    "    datacol = data[col]\n",
    "    if datacol.dtype == 'object':\n",
    "        print(f\"col name {col}\")\n",
    "        print(f\"num NaN {datacol.isna().sum()}\")\n",
    "        print(f\"unique values: {datacol.astype(str).unique()}\")\n",
    "        print(\"*\" * 15)"
   ]
  },
  {
   "cell_type": "markdown",
   "id": "cf9d5421-3b56-4a77-b8a0-d62bc158d885",
   "metadata": {},
   "source": [
    "- fairly moderate vocabulary size for each non-numerical feature\n",
    "- NaN values will be their own category\n",
    "- some redundant cols (garage quality and condition) and will keep out some columns"
   ]
  }
 ],
 "metadata": {
  "kernelspec": {
   "display_name": "Python 3",
   "language": "python",
   "name": "python3"
  },
  "language_info": {
   "codemirror_mode": {
    "name": "ipython",
    "version": 3
   },
   "file_extension": ".py",
   "mimetype": "text/x-python",
   "name": "python",
   "nbconvert_exporter": "python",
   "pygments_lexer": "ipython3",
   "version": "3.9.5"
  }
 },
 "nbformat": 4,
 "nbformat_minor": 5
}
